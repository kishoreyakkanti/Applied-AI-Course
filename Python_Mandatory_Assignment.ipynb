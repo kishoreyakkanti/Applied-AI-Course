{
 "cells": [
  {
   "cell_type": "markdown",
   "metadata": {
    "colab_type": "text",
    "id": "l0ZzOlyxB-kf"
   },
   "source": [
    "<h1>Python: without numpy or sklearn </h1>"
   ]
  },
  {
   "cell_type": "markdown",
   "metadata": {
    "colab_type": "text",
    "id": "C0xO8JV9B-ki"
   },
   "source": [
    "<h3> Q1: Given two matrices please print the product of those two matrices </h3>\n",
    "<pre>\n",
    "\n",
    "Ex 1: A   = [[1 3 4]\n",
    "             [2 5 7]\n",
    "             [5 9 6]]\n",
    "      B   = [[1 0 0]\n",
    "             [0 1 0]\n",
    "             [0 0 1]]\n",
    "      A*B = [[1 3 4]\n",
    "             [2 5 7]\n",
    "             [5 9 6]]\n",
    "\n",
    "     \n",
    "Ex 2: A   = [[1 2]\n",
    "             [3 4]]\n",
    "      B   = [[1 2 3 4 5]\n",
    "             [5 6 7 8 9]]\n",
    "      A*B = [[11 14 17 20 23]\n",
    "             [18 24 30 36 42]]\n",
    "             \n",
    "Ex 3: A   = [[1 2]\n",
    "             [3 4]]\n",
    "      B   = [[1 4]\n",
    "             [5 6]\n",
    "             [7 8]\n",
    "             [9 6]]\n",
    "      A*B =Not possible\n",
    "</pre>"
   ]
  },
  {
   "cell_type": "code",
   "execution_count": 1,
   "metadata": {},
   "outputs": [
    {
     "data": {
      "text/plain": [
       "[[11, 14, 17, 20, 23], [23, 30, 37, 44, 51]]"
      ]
     },
     "execution_count": 1,
     "metadata": {},
     "output_type": "execute_result"
    }
   ],
   "source": [
    "\n",
    "A=[[1,2],[3,4]]\n",
    "B=[[1,2,3,4,5],[5,6,7,8,9]]\n",
    "\n",
    "def matrix_mul(A,B):\n",
    "    if len(A[0])!=len(B):\n",
    "        return \"Multiplication not possible\"\n",
    "    result=[]\n",
    "    for i in range(len(A)):\n",
    "        row=[]\n",
    "        for j in range(len(B[0])):\n",
    "            sum=0\n",
    "            for k in range(len(A[0])):\n",
    "                sum+=A[i][k]*B[k][j]\n",
    "            row.append(sum)\n",
    "        result.append(row)\n",
    "    return result\n",
    "                   \n",
    "matrix_mul(A,B)"
   ]
  },
  {
   "cell_type": "markdown",
   "metadata": {
    "colab_type": "text",
    "id": "at4VwLggB-kn"
   },
   "source": [
    "<h3> Q2: Select a number randomly with probability proportional to its magnitude from the given array of n elements</h3>\n",
    "\n",
    "consider an experiment, selecting an element from the list A randomly with probability proportional to its magnitude.\n",
    "assume we are doing the same experiment for 100 times with replacement, in each experiment you will print a number that is selected randomly from A.\n",
    "\n",
    "<pre>\n",
    "Ex 1: A = [0 5 27 6 13 28 100 45 10 79]\n",
    "let f(x) denote the number of times x getting selected in 100 experiments.\n",
    "f(100) > f(79) > f(45) > f(28) > f(27) > f(13) > f(10) > f(6) > f(5) > f(0)\n",
    "</pre>"
   ]
  },
  {
   "cell_type": "code",
   "execution_count": 2,
   "metadata": {
    "colab": {},
    "colab_type": "code",
    "id": "B6S2dpBhB-kn"
   },
   "outputs": [
    {
     "name": "stdout",
     "output_type": "stream",
     "text": [
      "79\n",
      "79\n",
      "79\n",
      "100\n",
      "45\n",
      "79\n",
      "45\n",
      "27\n",
      "13\n",
      "100\n",
      "100\n",
      "10\n",
      "79\n",
      "45\n",
      "100\n",
      "79\n",
      "100\n",
      "28\n",
      "100\n",
      "100\n",
      "100\n",
      "45\n",
      "6\n",
      "45\n",
      "13\n",
      "79\n",
      "45\n",
      "79\n",
      "100\n",
      "6\n",
      "45\n",
      "100\n",
      "100\n",
      "100\n",
      "79\n",
      "45\n",
      "45\n",
      "10\n",
      "27\n",
      "79\n",
      "5\n",
      "100\n",
      "100\n",
      "79\n",
      "13\n",
      "28\n",
      "79\n",
      "28\n",
      "28\n",
      "79\n",
      "100\n",
      "27\n",
      "28\n",
      "100\n",
      "27\n",
      "79\n",
      "45\n",
      "79\n",
      "100\n",
      "100\n",
      "100\n",
      "79\n",
      "27\n",
      "100\n",
      "28\n",
      "45\n",
      "100\n",
      "100\n",
      "100\n",
      "28\n",
      "100\n",
      "45\n",
      "100\n",
      "100\n",
      "79\n",
      "28\n",
      "79\n",
      "45\n",
      "45\n",
      "79\n",
      "79\n",
      "79\n",
      "28\n",
      "79\n",
      "79\n",
      "45\n",
      "45\n",
      "79\n",
      "100\n",
      "100\n",
      "45\n",
      "27\n",
      "79\n",
      "79\n",
      "45\n",
      "79\n",
      "13\n",
      "100\n",
      "79\n",
      "79\n"
     ]
    }
   ],
   "source": [
    "from random import uniform\n",
    "# write your python code here\n",
    "# you can take the above example as sample input for your program to test\n",
    "# it should work for any general input try not to hard code for only given input examples\n",
    "# you can free to change all these codes/structure\n",
    "\n",
    "A=[0,5,27,6,13,28,100,45,10,79]\n",
    "def pick_a_number_from_list(A):\n",
    "    # your code here for picking an element from with the probability propotional to its magnitude\n",
    "    s=sum(A)\n",
    "    A_dash=[]\n",
    "    for ele in A:\n",
    "        A_dash.append(ele/s)\n",
    "\n",
    "    A_tilde=[]\n",
    "    csum=0\n",
    "    for prob in A_dash:\n",
    "        csum=csum+prob\n",
    "        A_tilde.append(csum)\n",
    "        \n",
    "    r=uniform(0.0,1.0)\n",
    "    for i in range(len(A)):\n",
    "        if r<=A_tilde[i]:\n",
    "            return A[i]#selected_random_number\n",
    "\n",
    "def sampling_based_on_magnitued():\n",
    "    for i in range(0,100):\n",
    "        number = pick_a_number_from_list(A)\n",
    "        print(number)\n",
    "\n",
    "sampling_based_on_magnitued()"
   ]
  },
  {
   "cell_type": "markdown",
   "metadata": {
    "colab_type": "text",
    "id": "D1xQy2WWB-kq"
   },
   "source": [
    "<h3> Q3: Replace the digits in the string with #</h3>\n",
    "\n",
    "consider a string that will have digits in that, we need to remove all the not digits and replace the digits with #\n",
    "<pre>\n",
    "Ex 1: A = 234                Output: ###\n",
    "Ex 2: A = a2b3c4             Output: ###\n",
    "Ex 3: A = abc                Output:   (empty string)\n",
    "Ex 5: A = #2a$#b%c%561#      Output: ####\n",
    "</pre>"
   ]
  },
  {
   "cell_type": "code",
   "execution_count": 3,
   "metadata": {
    "colab": {},
    "colab_type": "code",
    "id": "fxczi2jzB-kr"
   },
   "outputs": [
    {
     "data": {
      "text/plain": [
       "'####'"
      ]
     },
     "execution_count": 3,
     "metadata": {},
     "output_type": "execute_result"
    }
   ],
   "source": [
    "\n",
    "String='#2a$#b%c%561#'\n",
    "def replace_digits(String):\n",
    "    # write your code\n",
    "    s=''\n",
    "    for character in String:\n",
    "        if character.isdigit():\n",
    "            s+='#'\n",
    "    if len(s)==0:\n",
    "        return '(empty string)'\n",
    "    return s # modified string which is after replacing the # with digits\n",
    "\n",
    "replace_digits(String)"
   ]
  },
  {
   "cell_type": "markdown",
   "metadata": {
    "colab_type": "text",
    "id": "j7h0Ywg7B-kw"
   },
   "source": [
    "<h3> Q4: Students marks dashboard</h3>\n",
    "\n",
    "consider the marks list of class students given two lists <br>\n",
    "Students = ['student1','student2','student3','student4','student5','student6','student7','student8','student9','student10'] <br>\n",
    "Marks = [45, 78, 12, 14, 48, 43, 45, 98, 35, 80] <br>\n",
    "from the above two lists the Student[0] got Marks[0],  Student[1] got Marks[1] and so on <br><br>\n",
    "your task is to print the name of students\n",
    "<strong>a. Who got top 5 ranks, in the descending order of marks</strong> <br>\n",
    "<strong>b. Who got least 5 ranks, in the increasing order of marks</strong><br>\n",
    "<strong>d. Who got marks between  &gt;25th percentile &lt;75th percentile, in the increasing order of marks</strong>\n",
    "\n",
    "<pre>\n",
    "Ex 1: \n",
    "Students=['student1','student2','student3','student4','student5','student6','student7','student8','student9','student10'] \n",
    "Marks = [45, 78, 12, 14, 48, 43, 47, 98, 35, 80]\n",
    "a. \n",
    "student8  98\n",
    "student10 80\n",
    "student2  78\n",
    "student5  48\n",
    "student7  47\n",
    "b.\n",
    "student3 12\n",
    "student4 14\n",
    "student9 35\n",
    "student6 43\n",
    "student1 45\n",
    "c.\n",
    "student9 35\n",
    "student6 43\n",
    "student1 45\n",
    "student7 47\n",
    "student5 48\n",
    "</pre>"
   ]
  },
  {
   "cell_type": "code",
   "execution_count": 4,
   "metadata": {},
   "outputs": [
    {
     "name": "stdout",
     "output_type": "stream",
     "text": [
      "top 5 Students\n",
      "student8   98\n",
      "student10   80\n",
      "student2   78\n",
      "student5   48\n",
      "student7   47\n",
      "\n",
      "least 5 Students\n",
      "student3   12\n",
      "student4   14\n",
      "student9   35\n",
      "student6   43\n",
      "student1   45\n",
      "\n",
      "students_within_25_and_75\n",
      "student9   35\n",
      "student6   43\n",
      "student1   45\n",
      "student7   47\n",
      "student5   48\n"
     ]
    }
   ],
   "source": [
    "Students=['student1','student2','student3','student4','student5','student6','student7','student8','student9','student10']\n",
    "Marks=[45, 78, 12, 14, 48, 43, 47, 98, 35, 80]\n",
    "n=len(Marks)\n",
    "for i in range(n):\n",
    "    for j in range(i+1,n):\n",
    "        if Marks[i]>Marks[j]:\n",
    "            temp=Marks[i]\n",
    "            Marks[i]=Marks[j]\n",
    "            Marks[j]=temp\n",
    "            \n",
    "            temp=Students[i]\n",
    "            Students[i]=Students[j]\n",
    "            Students[j]=temp\n",
    "            \n",
    "top_5_students=dict(zip(Students[::-1][0:5],Marks[::-1][0:5]))\n",
    "least_5_students=dict(zip(Students[0:5],Marks[0:5]))\n",
    "students_within_25_and_75=dict(zip(Students,Marks))\n",
    "\n",
    "print(\"top 5 Students\")\n",
    "for key,value in top_5_students.items():\n",
    "    print(key,' ',value)\n",
    "    \n",
    "print(\"\\nleast 5 Students\")\n",
    "for key,value in least_5_students.items():\n",
    "    print(key,' ',value)\n",
    "          \n",
    "print(\"\\nstudents_within_25_and_75\")       \n",
    "diff=max(students_within_25_and_75.values())-min(students_within_25_and_75.values())\n",
    "percent_25=diff*0.25\n",
    "percent_75=diff*0.75\n",
    "for key,value in students_within_25_and_75.items():\n",
    "    if percent_25<value<percent_75:\n",
    "        print(key,' ',value)\n"
   ]
  },
  {
   "cell_type": "markdown",
   "metadata": {
    "colab_type": "text",
    "id": "qha0OhQHB-k1"
   },
   "source": [
    "<h3> Q5: Find the closest points</h3>\n",
    "\n",
    "consider you have given n data points in the form of list of tuples like S=[(x1,y1),(x2,y2),(x3,y3),(x4,y4),(x5,y5),..,(xn,yn)] and a point P=(p,q) <br> your task is to find 5 closest points(based on cosine distance) in S from P\n",
    "<br>cosine distance between two points (x,y) and (p,q) is defind as $cos^{-1}(\\frac{(x\\cdot p+y\\cdot q)}{\\sqrt(x^2+y^2)\\cdot\\sqrt(p^2+q^2)})$\n",
    "<pre>\n",
    "Ex:\n",
    "\n",
    "S= [(1,2),(3,4),(-1,1),(6,-7),(0, 6),(-5,-8),(-1,-1)(6,0),(1,-1)]\n",
    "P= (3,-4)\n",
    "<img src='https://i.imgur.com/vIFPOcG.jpg', width=300>\n",
    "Output:\n",
    "(6,-7)\n",
    "(1,-1)\n",
    "(6,0)\n",
    "(-5,-8)\n",
    "(-1,-1)\n",
    "</pre>"
   ]
  },
  {
   "cell_type": "code",
   "execution_count": 5,
   "metadata": {
    "colab": {},
    "colab_type": "code",
    "id": "wA5I1g-2B-k2"
   },
   "outputs": [
    {
     "name": "stdout",
     "output_type": "stream",
     "text": [
      "(6, -7)\n",
      "(1, -1)\n",
      "(6, 0)\n",
      "(-5, -8)\n",
      "(-1, -1)\n"
     ]
    }
   ],
   "source": [
    "import math\n",
    "\n",
    "def closest_points_to_p(S, P):\n",
    "    distance=[]\n",
    "    for i in range(len(S)):\n",
    "        d=math.acos(((S[i][0]*P[0])+(S[i][1]*P[1]))/((math.sqrt((S[i][0]**2)+(S[i][1]**2)))*(math.sqrt((P[0]**2)+(P[1]**2)))))\n",
    "        distance.append(d)\n",
    "    dictionary=dict(zip(S,distance))\n",
    "    sortvalues=sorted(dictionary.values())[0:5]\n",
    "    closest_points_to_p=[]\n",
    "    for i in sortvalues:\n",
    "        for k,v in dictionary.items():\n",
    "            if v==i:\n",
    "                closest_points_to_p.append(k)\n",
    "                break\n",
    "    return closest_points_to_p  #  list of tuples\n",
    "\n",
    "S= [(1,2),(3,4),(-1,1),(6,-7),(0, 6),(-5,-8),(-1,-1),(6,0),(1,-1)]\n",
    "P= (3,-4)\n",
    "points = closest_points_to_p(S, P)\n",
    "for p in points:\n",
    "    print(p) #print the returned values"
   ]
  },
  {
   "cell_type": "markdown",
   "metadata": {
    "colab_type": "text",
    "id": "-g11jeAiB-k5"
   },
   "source": [
    "<h3> Q6: Find Which line separates oranges and apples</h3>\n",
    "consider you have given two set of data points in the form of list of tuples like \n",
    "<pre>\n",
    "Red =[(R11,R12),(R21,R22),(R31,R32),(R41,R42),(R51,R52),..,(Rn1,Rn2)]\n",
    "Blue=[(B11,B12),(B21,B22),(B31,B32),(B41,B42),(B51,B52),..,(Bm1,Bm2)]\n",
    "</pre>\n",
    "and set of line equations(in the string formate, i.e list of strings)\n",
    "<pre>\n",
    "Lines = [a1x+b1y+c1,a2x+b2y+c2,a3x+b3y+c3,a4x+b4y+c4,..,K lines]\n",
    "Note: you need to string parsing here and get the coefficients of x,y and intercept\n",
    "</pre>\n",
    "your task is to for each line that is given print \"YES\"/\"NO\", you will print yes, if all the red points are one side of the line and blue points are other side of the line, otherwise no\n",
    "<pre>\n",
    "Ex:\n",
    "Red= [(1,1),(2,1),(4,2),(2,4), (-1,4)]\n",
    "Blue= [(-2,-1),(-1,-2),(-3,-2),(-3,-1),(1,-3)]\n",
    "Lines=[\"1x+1y+0\",\"1x-1y+0\",\"1x+0y-3\",\"0x+1y-0.5\"]\n",
    "<img src='https://i.imgur.com/DoQf7mE.jpg' width=400>\n",
    "Output:\n",
    "YES\n",
    "NO\n",
    "NO\n",
    "YES\n",
    "</pre>"
   ]
  },
  {
   "cell_type": "code",
   "execution_count": 6,
   "metadata": {
    "colab": {},
    "colab_type": "code",
    "id": "eRxExaTRB-k6"
   },
   "outputs": [
    {
     "name": "stdout",
     "output_type": "stream",
     "text": [
      "YES\n",
      "NO\n",
      "NO\n",
      "YES\n"
     ]
    }
   ],
   "source": [
    "import math\n",
    "import re\n",
    "\n",
    "def i_am_the_one(red,blue,line):\n",
    "    coeff=[]\n",
    "    for x in re.split('x|y',line): #https://stackoverflow.com/questions/4998629/split-string-with-multiple-delimiters-in-python\n",
    "        coeff.append(float(x))\n",
    "    a=coeff[0]\n",
    "    b=coeff[1]\n",
    "    c=coeff[2]\n",
    "    \n",
    "    R=[]\n",
    "    B=[]\n",
    "    for i in range(len(red)):\n",
    "        R.append((a*red[i][0])+(b*red[i][1])+c)\n",
    "    for j in range(len(blue)):\n",
    "        B.append((a*blue[j][0])+(b*blue[j][1])+c)\n",
    "        \n",
    "    count_r=0\n",
    "    for k in range(len(red)):\n",
    "        if R[k]<0:\n",
    "            count_r+=1\n",
    "            \n",
    "    count_b=0\n",
    "    for l in range(len(blue)):\n",
    "        if B[l]>0:\n",
    "            count_b+=1\n",
    "            \n",
    "    if (count_r==len(red) and count_b==len(blue)) or (count_r==0 and count_b==0):\n",
    "        return 'YES'\n",
    "    else:\n",
    "        return 'NO'\n",
    "\n",
    "Red= [(1,1),(2,1),(4,2),(2,4), (-1,4)]\n",
    "Blue= [(-2,-1),(-1,-2),(-3,-2),(-3,-1),(1,-3)]\n",
    "Lines=[\"1x+1y+0\",\"1x-1y+0\",\"1x+0y-3\",\"0x+1y-0.5\"]\n",
    "\n",
    "for i in Lines:\n",
    "    yes_or_no = i_am_the_one(Red, Blue, i)\n",
    "    print(yes_or_no) # the returned value"
   ]
  },
  {
   "cell_type": "markdown",
   "metadata": {
    "colab_type": "text",
    "id": "9OBpURbNB-k9"
   },
   "source": [
    "<h3> Q7: Filling the missing values in the specified formate</h3>\n",
    "You will be given a string with digits and '\\_'(missing value) symbols you have to replace the '\\_' symbols as explained \n",
    "<pre>\n",
    "Ex 1: _, _, _, 24 ==> 24/4, 24/4, 24/4, 24/4 i.e we. have distributed the 24 equally to all 4 places <br>\n",
    "Ex 2: 40, _, _, _, 60 ==> (60+40)/5,(60+40)/5,(60+40)/5,(60+40)/5,(60+40)/5 ==> 20, 20, 20, 20, 20 i.e. the sum of (60+40) is distributed qually to all 5 places<br>\n",
    "Ex 3: 80, _, _, _, _  ==> 80/5,80/5,80/5,80/5,80/5 ==> 16, 16, 16, 16, 16 i.e. the 80 is distributed qually to all 5 missing values that are right to it<br>\n",
    "Ex 4: _, _, 30, _, _, _, 50, _, _  \n",
    "==> we will fill the missing values from left to right \n",
    "    a. first we will distribute the 30 to left two missing values (10, 10, 10, _, _, _, 50, _, _)\n",
    "    b. now distribute the sum (10+50) missing values in between (10, 10, 12, 12, 12, 12, 12, _, _) \n",
    "    c. now we will distribute 12 to right side missing values (10, 10, 12, 12, 12, 12, 4, 4, 4)\n",
    "</pre>\n",
    "for a given string with comma seprate values, which will have both missing values numbers like ex: \"_, _, x, _, _, _\"\n",
    "you need fill the missing values\n",
    "\n",
    "Q: your program reads a string like ex: \"_, _, x, _, _, _\" and returns the filled sequence\n",
    "\n",
    "Ex: \n",
    "<pre>\n",
    "Input1: \"_,_,_,24\"\n",
    "Output1: 6,6,6,6\n",
    "\n",
    "Input2: \"40,_,_,_,60\"\n",
    "Output2: 20,20,20,20,20\n",
    "\n",
    "Input3: \"80,_,_,_,_\"\n",
    "Output3: 16,16,16,16,16\n",
    "\n",
    "Input4: \"_,_,30,_,_,_,50,_,_\"\n",
    "Output4: 10,10,12,12,12,12,4,4,4\n",
    "</pre>\n",
    "\n"
   ]
  },
  {
   "cell_type": "code",
   "execution_count": 7,
   "metadata": {
    "colab": {},
    "colab_type": "code",
    "id": "nZmpzHs_B-k-"
   },
   "outputs": [
    {
     "name": "stdout",
     "output_type": "stream",
     "text": [
      "['10.0', '10.0', '12.0', '12.0', '12.0', '12.0', '4.0', '4.0', '4.0']\n"
     ]
    }
   ],
   "source": [
    "\n",
    "def curve_smoothing(string):\n",
    "    s=string.split(',')\n",
    "    count=0\n",
    "    mid1_index=0\n",
    "    for i in range(len(s)):\n",
    "        if s[i]=='_':\n",
    "            count+=1\n",
    "        else:\n",
    "            for k in range(i+1):\n",
    "                s[k]=str((int(s[i])/(count+1)))\n",
    "            mid1_index=i\n",
    "            break\n",
    "    \n",
    "    mid1_value=float(s[mid1_index])\n",
    "    mid2_index=0\n",
    "    \n",
    "    for j in range(mid1_index+1,len(s)):\n",
    "        if s[j]!='_':\n",
    "            mid2_index=j\n",
    "            break\n",
    "            \n",
    "    if mid1_index!=mid2_index:\n",
    "        mid_count=mid2_index-mid1_index+1\n",
    "        mid2_value=float(s[mid2_index])\n",
    "        for p in range(mid1_index,mid2_index+1):\n",
    "            s[p]=str((mid1_value+mid2_value)/mid_count)\n",
    "        \n",
    "    if mid1_index!=len(s)-1:\n",
    "        last_value=float(s[mid2_index])\n",
    "        for q in range(mid2_index,len(s)):\n",
    "            s[q]=str(last_value/(len(s)-mid2_index))\n",
    "        \n",
    "    return s #list of values\n",
    "#S=\"_,_,_,24\"\n",
    "#S=\"40,_,_,_,60\"\n",
    "#S=\"80,_,_,_,_\"\n",
    "S=  \"_,_,30,_,_,_,50,_,_\"\n",
    "#S=\"20,_,_,30, _, _,10,_,_,_,_,110\"\n",
    "smoothed_values= curve_smoothing(S)\n",
    "print(smoothed_values)"
   ]
  },
  {
   "cell_type": "markdown",
   "metadata": {
    "colab_type": "text",
    "id": "RBz4pzlfB-lB"
   },
   "source": [
    "<h3> Q8: Filling the missing values in the specified formate</h3>\n",
    "You will be given a list of lists, each sublist will be of length 2 i.e. [[x,y],[p,q],[l,m]..[r,s]]\n",
    "consider its like a martrix of n rows and two columns\n",
    "1. the first column F will contain only 5 uniques values (F1, F2, F3, F4, F5)\n",
    "2. the second column S will contain only 3 uniques values (S1, S2, S3)\n",
    "<pre>\n",
    "your task is to find\n",
    "a. Probability of P(F=F1|S==S1), P(F=F1|S==S2), P(F=F1|S==S3)\n",
    "b. Probability of P(F=F2|S==S1), P(F=F2|S==S2), P(F=F2|S==S3)\n",
    "c. Probability of P(F=F3|S==S1), P(F=F3|S==S2), P(F=F3|S==S3)\n",
    "d. Probability of P(F=F4|S==S1), P(F=F4|S==S2), P(F=F4|S==S3)\n",
    "e. Probability of P(F=F5|S==S1), P(F=F5|S==S2), P(F=F5|S==S3)\n",
    "</pre>\n",
    "Ex:\n",
    "\n",
    "<pre>\n",
    "[[F1,S1],[F2,S2],[F3,S3],[F1,S2],[F2,S3],[F3,S2],[F2,S1],[F4,S1],[F4,S3],[F5,S1]]\n",
    "\n",
    "a. P(F=F1|S==S1)=1/4, P(F=F1|S==S2)=1/3, P(F=F1|S==S3)=0/3\n",
    "b. P(F=F2|S==S1)=1/4, P(F=F2|S==S2)=1/3, P(F=F2|S==S3)=1/3\n",
    "c. P(F=F3|S==S1)=0/4, P(F=F3|S==S2)=1/3, P(F=F3|S==S3)=1/3\n",
    "d. P(F=F4|S==S1)=1/4, P(F=F4|S==S2)=0/3, P(F=F4|S==S3)=1/3\n",
    "e. P(F=F5|S==S1)=1/4, P(F=F5|S==S2)=0/3, P(F=F5|S==S3)=0/3\n",
    "</pre>\n",
    "\n",
    "\n"
   ]
  },
  {
   "cell_type": "code",
   "execution_count": 8,
   "metadata": {
    "colab": {},
    "colab_type": "code",
    "id": "e-1giz1MB-lC"
   },
   "outputs": [
    {
     "name": "stdout",
     "output_type": "stream",
     "text": [
      "P(F=F3|S==S1)=0.0\n",
      "P(F=F3|S==S2)=0.3333333333333333\n",
      "P(F=F3|S==S3)=0.3333333333333333\n",
      "P(F=F5|S==S1)=0.25\n",
      "P(F=F5|S==S2)=0.0\n",
      "P(F=F5|S==S3)=0.0\n",
      "P(F=F2|S==S1)=0.25\n",
      "P(F=F2|S==S2)=0.3333333333333333\n",
      "P(F=F2|S==S3)=0.3333333333333333\n",
      "P(F=F1|S==S1)=0.25\n",
      "P(F=F1|S==S2)=0.3333333333333333\n",
      "P(F=F1|S==S3)=0.0\n",
      "P(F=F4|S==S1)=0.25\n",
      "P(F=F4|S==S2)=0.0\n",
      "P(F=F4|S==S3)=0.3333333333333333\n"
     ]
    }
   ],
   "source": [
    "# write your python code here\n",
    "# you can take the above example as sample input for your program to test\n",
    "# it should work for any general input try not to hard code for only given input strings\n",
    "\n",
    "\n",
    "\n",
    "# you can free to change all these codes/structure\n",
    "def compute_conditional_probabilites(A):\n",
    "    n=len(A)\n",
    "    cs1=0\n",
    "    cs2=0\n",
    "    cs3=0\n",
    "    for i in range(n):\n",
    "        if A[i][1]=='S1':\n",
    "            cs1+=1\n",
    "        if A[i][1]=='S2':\n",
    "            cs2+=1\n",
    "        if A[i][1]=='S3':\n",
    "            cs3+=1\n",
    "    \n",
    "    for f in list(set([k[0] for k in A])):\n",
    "        c1=0\n",
    "        c2=0\n",
    "        c3=0\n",
    "        for i in range(n):\n",
    "            if A[i][0]==f and A[i][1]=='S1':\n",
    "                c1+=1\n",
    "            if A[i][0]==f and A[i][1]=='S2':\n",
    "                c2+=1\n",
    "            if A[i][0]==f and A[i][1]=='S3':\n",
    "                c3+=1\n",
    "        print(\"P(F={}|S==S1)={}\".format(f,c1/cs1))\n",
    "        print(\"P(F={}|S==S2)={}\".format(f,c2/cs2))\n",
    "        print(\"P(F={}|S==S3)={}\".format(f,c3/cs3))\n",
    "A = [['F1','S1'],['F2','S2'],['F3','S3'],['F1','S2'],['F2','S3'],['F3','S2'],['F2','S1'],['F4','S1'],['F4','S3'],['F5','S1']]\n",
    "\n",
    "compute_conditional_probabilites(A)"
   ]
  },
  {
   "cell_type": "markdown",
   "metadata": {
    "colab_type": "text",
    "id": "n4HS87QmB-lF"
   },
   "source": [
    "<h3> Q9: Given two sentances S1, S2</h3>\n",
    "You will be given two sentances S1, S2 your task is to find \n",
    "<pre>\n",
    "a. Number of common words between S1, S2\n",
    "b. Words in S1 but not in S2\n",
    "c. Words in S2 but not in S1\n",
    "</pre>\n",
    "\n",
    "Ex: \n",
    "<pre>\n",
    "S1= \"the first column F will contain only 5 uniques values\"\n",
    "S2= \"the second column S will contain only 3 uniques values\"\n",
    "Output:\n",
    "a. 7\n",
    "b. ['first','F','5']\n",
    "c. ['second','S','3']\n",
    "</pre>"
   ]
  },
  {
   "cell_type": "code",
   "execution_count": 9,
   "metadata": {
    "colab": {},
    "colab_type": "code",
    "id": "Ez7hlHK0B-lG"
   },
   "outputs": [
    {
     "name": "stdout",
     "output_type": "stream",
     "text": [
      "7\n",
      "['first', 'F', '5']\n",
      "['second', 'S', '3']\n"
     ]
    }
   ],
   "source": [
    "# write your python code here\n",
    "# you can take the above example as sample input for your program to test\n",
    "# it should work for any general input try not to hard code for only given input strings\n",
    "\n",
    "# you can free to change all these codes/structure\n",
    "def string_features(S1, S2):\n",
    "    a=0\n",
    "    b=[]\n",
    "    c=[]\n",
    "    for ch1 in set(S1.split()):\n",
    "        for ch2 in set(S2.split()):\n",
    "            if ch1==ch2:\n",
    "                a+=1\n",
    "                \n",
    "    for ch1 in S1.split():\n",
    "        if ch1 not in S2.split():\n",
    "            b.append(ch1)\n",
    "            \n",
    "    for ch2 in S2.split():\n",
    "        if ch2 not in S1.split():\n",
    "            c.append(ch2)\n",
    "\n",
    "    return a,b,c\n",
    "\n",
    "S1= \"the first column F will contain only 5 uniques values\"\n",
    "S2= \"the second column S will contain only 3 uniques values\"\n",
    "a,b,c = string_features(S1,S2)\n",
    "print(a)\n",
    "print(b)\n",
    "print(c)"
   ]
  },
  {
   "cell_type": "markdown",
   "metadata": {
    "colab_type": "text",
    "id": "XefXVEjCB-lI"
   },
   "source": [
    "<h3> Q10: Given two sentances S1, S2</h3>\n",
    "You will be given a list of lists, each sublist will be of length 2 i.e. [[x,y],[p,q],[l,m]..[r,s]]\n",
    "consider its like a martrix of n rows and two columns\n",
    "\n",
    "a. the first column Y will contain interger values <br>\n",
    "b. the second column $Y_{score}$ will be having float values <br>\n",
    "Your task is to find the value of $f(Y,Y_{score}) = -1*\\frac{1}{n}\\Sigma_{for each Y,Y_{score} pair}(Ylog10(Y_{score})+(1-Y)log10(1-Y_{score}))$ here n is the number of rows in the matrix\n",
    "<pre>\n",
    "Ex:\n",
    "[[1, 0.4], [0, 0.5], [0, 0.9], [0, 0.3], [0, 0.6], [1, 0.1], [1, 0.9], [1, 0.8]]\n",
    "output:\n",
    "0.4243099\n",
    "</pre>\n",
    "$\\frac{-1}{8}\\cdot((1\\cdot log_{10}(0.4)+0\\cdot log_{10}(0.6))+(0\\cdot log_{10}(0.5)+1\\cdot log_{10}(0.5)) + ... + (1\\cdot log_{10}(0.8)+0\\cdot log_{10}(0.2)) )$"
   ]
  },
  {
   "cell_type": "code",
   "execution_count": 10,
   "metadata": {
    "colab": {},
    "colab_type": "code",
    "id": "N9zkagyNB-lJ"
   },
   "outputs": [
    {
     "name": "stdout",
     "output_type": "stream",
     "text": [
      "0.42430993457031635\n"
     ]
    }
   ],
   "source": [
    "# write your python code here\n",
    "# you can take the above example as sample input for your program to test\n",
    "# it should work for any general input try not to hard code for only given input strings\n",
    "# you can free to change all these codes/structure\n",
    "import math\n",
    "def compute_log_loss(A):\n",
    "    sum=0\n",
    "    for i in range(len(A)):\n",
    "        y=A[i][0]\n",
    "        y_score=A[i][1]\n",
    "        sum+=y*math.log10(y_score)+(1-y)*math.log10(1-y_score)\n",
    "    loss=-sum/len(A)\n",
    "    return loss\n",
    "\n",
    "A = [[1, 0.4], [0, 0.5], [0, 0.9], [0, 0.3], [0, 0.6], [1, 0.1], [1, 0.9], [1, 0.8]]\n",
    "loss = compute_log_loss(A)\n",
    "print(loss)"
   ]
  },
  {
   "cell_type": "code",
   "execution_count": null,
   "metadata": {},
   "outputs": [],
   "source": []
  }
 ],
 "metadata": {
  "colab": {
   "collapsed_sections": [],
   "name": "1.Python Assignment.ipynb",
   "provenance": []
  },
  "kernelspec": {
   "display_name": "Python 3",
   "language": "python",
   "name": "python3"
  },
  "language_info": {
   "codemirror_mode": {
    "name": "ipython",
    "version": 3
   },
   "file_extension": ".py",
   "mimetype": "text/x-python",
   "name": "python",
   "nbconvert_exporter": "python",
   "pygments_lexer": "ipython3",
   "version": "3.6.5"
  }
 },
 "nbformat": 4,
 "nbformat_minor": 1
}
