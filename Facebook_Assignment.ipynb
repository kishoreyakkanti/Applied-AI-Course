{
 "cells": [
  {
   "cell_type": "markdown",
   "metadata": {
    "id": "naWvqMEMHglO"
   },
   "source": [
    "<p style=\"font-size:32px;text-align:center\"> <b>Social network Graph Link Prediction - Facebook Challenge</b> </p>"
   ]
  },
  {
   "cell_type": "code",
   "execution_count": 1,
   "metadata": {
    "id": "9wb9N5RzHglP"
   },
   "outputs": [],
   "source": [
    "#Importing Libraries\n",
    "# please do go through this python notebook: \n",
    "import warnings\n",
    "warnings.filterwarnings(\"ignore\")\n",
    "\n",
    "import csv\n",
    "import pandas as pd#pandas to create small dataframes \n",
    "import datetime #Convert to unix time\n",
    "import time #Convert to unix time\n",
    "# if numpy is not installed already : pip3 install numpy\n",
    "import numpy as np#Do aritmetic operations on arrays\n",
    "# matplotlib: used to plot graphs\n",
    "import matplotlib\n",
    "import matplotlib.pylab as plt\n",
    "import seaborn as sns#Plots\n",
    "from matplotlib import rcParams#Size of plots  \n",
    "from sklearn.cluster import MiniBatchKMeans, KMeans#Clustering\n",
    "import math\n",
    "import pickle\n",
    "import os\n",
    "# to install xgboost: pip3 install xgboost\n",
    "import xgboost as xgb\n",
    "\n",
    "import warnings\n",
    "import networkx as nx\n",
    "import pdb\n",
    "import pickle\n",
    "from pandas import HDFStore,DataFrame\n",
    "from pandas import read_hdf\n",
    "from scipy.sparse.linalg import svds, eigs\n",
    "import gc\n",
    "from tqdm import tqdm\n",
    "from sklearn.ensemble import RandomForestClassifier\n",
    "from sklearn.metrics import f1_score"
   ]
  },
  {
   "cell_type": "code",
   "execution_count": 2,
   "metadata": {
    "colab": {
     "base_uri": "https://localhost:8080/"
    },
    "id": "PTJl1tbrQoI8",
    "outputId": "5cb0561b-742a-42e7-ac9c-8ce343b119e3"
   },
   "outputs": [
    {
     "name": "stdout",
     "output_type": "stream",
     "text": [
      "Mounted at /content/drive\n"
     ]
    }
   ],
   "source": [
    "from google.colab import drive\n",
    "drive.mount('/content/drive')"
   ]
  },
  {
   "cell_type": "markdown",
   "metadata": {
    "id": "NQkLTI94xl3U"
   },
   "source": [
    "#Reading the Graph"
   ]
  },
  {
   "cell_type": "code",
   "execution_count": 3,
   "metadata": {
    "colab": {
     "base_uri": "https://localhost:8080/"
    },
    "id": "so-xIJ1jxvfs",
    "outputId": "ad82fbe7-38eb-48cf-e517-21c58dc24110"
   },
   "outputs": [
    {
     "name": "stdout",
     "output_type": "stream",
     "text": [
      "Name: \n",
      "Type: DiGraph\n",
      "Number of nodes: 1780722\n",
      "Number of edges: 7550015\n",
      "Average in degree:   4.2399\n",
      "Average out degree:   4.2399\n"
     ]
    }
   ],
   "source": [
    "if os.path.isfile('/content/drive/My Drive/Colab Notebooks/Facebook/data/after_eda/train_pos_after_eda.csv'):\n",
    "    train_graph=nx.read_edgelist('/content/drive/My Drive/Colab Notebooks/Facebook/data/after_eda/train_pos_after_eda.csv',delimiter=',',create_using=nx.DiGraph(),nodetype=int)\n",
    "    print(nx.info(train_graph))\n",
    "else:\n",
    "    print(\"please run the FB_EDA.ipynb or download the files from drive\")"
   ]
  },
  {
   "cell_type": "code",
   "execution_count": 4,
   "metadata": {
    "id": "XC4OJFKkHglU"
   },
   "outputs": [],
   "source": [
    "#reading\n",
    "from pandas import read_hdf\n",
    "df_final_train = read_hdf('/content/drive/My Drive/Colab Notebooks/Facebook/data/fea_sample/storage_sample_stage4.h5', 'train_df',mode='r')\n",
    "df_final_test = read_hdf('/content/drive/My Drive/Colab Notebooks/Facebook/data/fea_sample/storage_sample_stage4.h5', 'test_df',mode='r')"
   ]
  },
  {
   "cell_type": "code",
   "execution_count": 5,
   "metadata": {
    "id": "aL8Y3stBY0xs"
   },
   "outputs": [],
   "source": [
    "def compute_features_stage1(df_final):\n",
    "    #calculating no of followers followees for source and destination\n",
    "    #calculating intersection of followers and followees for source and destination\n",
    "    num_followers_s=[]\n",
    "    num_followees_s=[]\n",
    "    num_followers_d=[]\n",
    "    num_followees_d=[]\n",
    "    inter_followers=[]\n",
    "    inter_followees=[]\n",
    "    for i,row in df_final.iterrows():\n",
    "        try:\n",
    "            s1=set(train_graph.predecessors(row['source_node']))\n",
    "        except:\n",
    "            s1 = set()\n",
    "        try:\n",
    "            s2=set(train_graph.successors(row['source_node']))\n",
    "        except:\n",
    "            s2 = set()\n",
    "        try:\n",
    "            d1=set(train_graph.predecessors(row['destination_node']))\n",
    "        except:\n",
    "            d1 = set()\n",
    "        try:\n",
    "            d2=set(train_graph.successors(row['destination_node']))\n",
    "        except:\n",
    "            d2 = set()\n",
    "        num_followers_s.append(len(s1))\n",
    "        num_followees_s.append(len(s2))\n",
    "\n",
    "        num_followers_d.append(len(d1))\n",
    "        num_followees_d.append(len(d2))\n",
    "\n",
    "        inter_followers.append(len(s1.intersection(d1)))\n",
    "        inter_followees.append(len(s2.intersection(d2)))\n",
    "    \n",
    "    return num_followers_s, num_followers_d, num_followees_s, num_followees_d, inter_followers, inter_followees"
   ]
  },
  {
   "cell_type": "code",
   "execution_count": 6,
   "metadata": {
    "id": "Q7R_zR2tawV5"
   },
   "outputs": [],
   "source": [
    "df_final_train['num_followers_s'], df_final_train['num_followers_d'], \\\n",
    "df_final_train['num_followees_s'], df_final_train['num_followees_d'], \\\n",
    "df_final_train['inter_followers'], df_final_train['inter_followees']= compute_features_stage1(df_final_train)\n",
    "    \n",
    "df_final_test['num_followers_s'], df_final_test['num_followers_d'], \\\n",
    "df_final_test['num_followees_s'], df_final_test['num_followees_d'], \\\n",
    "df_final_test['inter_followers'], df_final_test['inter_followees']= compute_features_stage1(df_final_test)"
   ]
  },
  {
   "cell_type": "code",
   "execution_count": 7,
   "metadata": {
    "colab": {
     "base_uri": "https://localhost:8080/"
    },
    "id": "arB_NrMu8FlF",
    "outputId": "0e76d7b5-cd84-4bdc-a98b-07f2ceb7c534"
   },
   "outputs": [
    {
     "data": {
      "text/plain": [
       "Index(['source_node', 'destination_node', 'indicator_link',\n",
       "       'jaccard_followers', 'jaccard_followees', 'cosine_followers',\n",
       "       'cosine_followees', 'num_followers_s', 'num_followees_s',\n",
       "       'num_followees_d', 'inter_followers', 'inter_followees', 'adar_index',\n",
       "       'follows_back', 'same_comp', 'shortest_path', 'weight_in', 'weight_out',\n",
       "       'weight_f1', 'weight_f2', 'weight_f3', 'weight_f4', 'page_rank_s',\n",
       "       'page_rank_d', 'katz_s', 'katz_d', 'hubs_s', 'hubs_d', 'authorities_s',\n",
       "       'authorities_d', 'svd_u_s_1', 'svd_u_s_2', 'svd_u_s_3', 'svd_u_s_4',\n",
       "       'svd_u_s_5', 'svd_u_s_6', 'svd_u_d_1', 'svd_u_d_2', 'svd_u_d_3',\n",
       "       'svd_u_d_4', 'svd_u_d_5', 'svd_u_d_6', 'svd_v_s_1', 'svd_v_s_2',\n",
       "       'svd_v_s_3', 'svd_v_s_4', 'svd_v_s_5', 'svd_v_s_6', 'svd_v_d_1',\n",
       "       'svd_v_d_2', 'svd_v_d_3', 'svd_v_d_4', 'svd_v_d_5', 'svd_v_d_6',\n",
       "       'num_followers_d'],\n",
       "      dtype='object')"
      ]
     },
     "execution_count": 7,
     "metadata": {
      "tags": []
     },
     "output_type": "execute_result"
    }
   ],
   "source": [
    "df_final_train.columns"
   ]
  },
  {
   "cell_type": "code",
   "execution_count": 8,
   "metadata": {
    "id": "XRW7VZ4AHglc"
   },
   "outputs": [],
   "source": [
    "y_train = df_final_train.indicator_link\n",
    "y_test = df_final_test.indicator_link"
   ]
  },
  {
   "cell_type": "code",
   "execution_count": 9,
   "metadata": {
    "id": "4lj9M_qtHglf"
   },
   "outputs": [],
   "source": [
    "df_final_train.drop(['source_node', 'destination_node','indicator_link'],axis=1,inplace=True)\n",
    "df_final_test.drop(['source_node', 'destination_node','indicator_link'],axis=1,inplace=True)"
   ]
  },
  {
   "cell_type": "markdown",
   "metadata": {
    "id": "FiMnmfu6bLOr"
   },
   "source": [
    "#Preferential Attachment with followers"
   ]
  },
  {
   "cell_type": "code",
   "execution_count": 10,
   "metadata": {
    "id": "7BJ_rE3zZWU6"
   },
   "outputs": [],
   "source": [
    "df_final_train['preferential_attachment_followers']=df_final_train['num_followers_s']*df_final_train['num_followers_d']\n",
    "df_final_test['preferential_attachment_followers']=df_final_test['num_followers_s']*df_final_test['num_followers_d']"
   ]
  },
  {
   "cell_type": "markdown",
   "metadata": {
    "id": "fI_YAZnmfvSf"
   },
   "source": [
    "#Preferential Attachment with followees"
   ]
  },
  {
   "cell_type": "code",
   "execution_count": 11,
   "metadata": {
    "id": "JIKnEi9fbC6m"
   },
   "outputs": [],
   "source": [
    "df_final_train['preferential_attachment_followees']=df_final_train['num_followees_s']*df_final_train['num_followees_d']\n",
    "df_final_test['preferential_attachment_followees']=df_final_test['num_followees_s']*df_final_test['num_followees_d']"
   ]
  },
  {
   "cell_type": "markdown",
   "metadata": {
    "id": "Xst_i5sbpI8O"
   },
   "source": [
    "#svd dot"
   ]
  },
  {
   "cell_type": "code",
   "execution_count": 12,
   "metadata": {
    "id": "p1pMrCPqULYz"
   },
   "outputs": [],
   "source": [
    "svd_u_s=np.array(df_final_train[['svd_u_s_1', 'svd_u_s_2','svd_u_s_3', 'svd_u_s_4', 'svd_u_s_5', 'svd_u_s_6']])\n",
    "svd_u_d=np.array(df_final_train[['svd_u_d_1', 'svd_u_d_2', 'svd_u_d_3', 'svd_u_d_4', 'svd_u_d_5','svd_u_d_6']])\n",
    "\n",
    "df_final_train['svd_dot_u']=np.sum(svd_u_s*svd_u_d,axis=1)\n",
    "\n",
    "svd_v_s=np.array(df_final_train[['svd_v_s_1', 'svd_v_s_2','svd_v_s_3', 'svd_v_s_4', 'svd_v_s_5', 'svd_v_s_6']])\n",
    "svd_v_d=np.array(df_final_train[['svd_v_d_1', 'svd_v_d_2', 'svd_v_d_3', 'svd_v_d_4', 'svd_v_d_5','svd_v_d_6']])\n",
    "\n",
    "df_final_train['svd_dot_v']=np.sum(svd_v_s*svd_v_d,axis=1)"
   ]
  },
  {
   "cell_type": "code",
   "execution_count": 13,
   "metadata": {
    "id": "h0Sfo6NfFBfT"
   },
   "outputs": [],
   "source": [
    "svd_u_s=np.array(df_final_test[['svd_u_s_1', 'svd_u_s_2','svd_u_s_3', 'svd_u_s_4', 'svd_u_s_5', 'svd_u_s_6']])\n",
    "svd_u_d=np.array(df_final_test[['svd_u_d_1', 'svd_u_d_2', 'svd_u_d_3', 'svd_u_d_4', 'svd_u_d_5','svd_u_d_6']])\n",
    "\n",
    "df_final_test['svd_dot_u']=np.sum(svd_u_s*svd_u_d,axis=1)\n",
    "\n",
    "svd_v_s=np.array(df_final_test[['svd_v_s_1', 'svd_v_s_2','svd_v_s_3', 'svd_v_s_4', 'svd_v_s_5', 'svd_v_s_6']])\n",
    "svd_v_d=np.array(df_final_test[['svd_v_d_1', 'svd_v_d_2', 'svd_v_d_3', 'svd_v_d_4', 'svd_v_d_5','svd_v_d_6']])\n",
    "\n",
    "df_final_test['svd_dot_v']=np.sum(svd_v_s*svd_v_d,axis=1)"
   ]
  },
  {
   "cell_type": "code",
   "execution_count": 14,
   "metadata": {
    "colab": {
     "base_uri": "https://localhost:8080/"
    },
    "id": "s_5O6ZVJaSAp",
    "outputId": "2152ea70-1393-4e4c-d716-27b45c76e30e"
   },
   "outputs": [
    {
     "data": {
      "text/plain": [
       "Index(['jaccard_followers', 'jaccard_followees', 'cosine_followers',\n",
       "       'cosine_followees', 'num_followers_s', 'num_followees_s',\n",
       "       'num_followees_d', 'inter_followers', 'inter_followees', 'adar_index',\n",
       "       'follows_back', 'same_comp', 'shortest_path', 'weight_in', 'weight_out',\n",
       "       'weight_f1', 'weight_f2', 'weight_f3', 'weight_f4', 'page_rank_s',\n",
       "       'page_rank_d', 'katz_s', 'katz_d', 'hubs_s', 'hubs_d', 'authorities_s',\n",
       "       'authorities_d', 'svd_u_s_1', 'svd_u_s_2', 'svd_u_s_3', 'svd_u_s_4',\n",
       "       'svd_u_s_5', 'svd_u_s_6', 'svd_u_d_1', 'svd_u_d_2', 'svd_u_d_3',\n",
       "       'svd_u_d_4', 'svd_u_d_5', 'svd_u_d_6', 'svd_v_s_1', 'svd_v_s_2',\n",
       "       'svd_v_s_3', 'svd_v_s_4', 'svd_v_s_5', 'svd_v_s_6', 'svd_v_d_1',\n",
       "       'svd_v_d_2', 'svd_v_d_3', 'svd_v_d_4', 'svd_v_d_5', 'svd_v_d_6',\n",
       "       'num_followers_d', 'preferential_attachment_followers',\n",
       "       'preferential_attachment_followees', 'svd_dot_u', 'svd_dot_v'],\n",
       "      dtype='object')"
      ]
     },
     "execution_count": 14,
     "metadata": {
      "tags": []
     },
     "output_type": "execute_result"
    }
   ],
   "source": [
    "df_final_train.columns"
   ]
  },
  {
   "cell_type": "markdown",
   "metadata": {
    "id": "VO8VfNJpc2yZ"
   },
   "source": [
    "#XGBoost"
   ]
  },
  {
   "cell_type": "code",
   "execution_count": 15,
   "metadata": {
    "id": "Ro3XlGT5pj9W"
   },
   "outputs": [],
   "source": [
    "from xgboost import XGBClassifier\n",
    "from sklearn.model_selection import RandomizedSearchCV\n",
    "from sklearn.metrics import roc_auc_score"
   ]
  },
  {
   "cell_type": "code",
   "execution_count": 21,
   "metadata": {
    "colab": {
     "base_uri": "https://localhost:8080/",
     "height": 396
    },
    "id": "ahjBYxSBiMQd",
    "outputId": "b4064987-b75f-4095-d5ee-f9784d13a0b7"
   },
   "outputs": [
    {
     "name": "stdout",
     "output_type": "stream",
     "text": [
      "Estimators =  10 Train Score 0.9302179379715004 test Score 0.9264801835364441\n",
      "Estimators =  30 Train Score 0.9643581629341123 test Score 0.9273667830256129\n",
      "Estimators =  60 Train Score 0.9732092040003252 test Score 0.9325707022561169\n",
      "Estimators =  100 Train Score 0.9767813603391235 test Score 0.9292543831753906\n",
      "Estimators =  150 Train Score 0.9804348922859594 test Score 0.9289075416507694\n"
     ]
    },
    {
     "data": {
      "text/plain": [
       "Text(0.5, 1.0, 'Estimators vs score at depth of 5')"
      ]
     },
     "execution_count": 21,
     "metadata": {
      "tags": []
     },
     "output_type": "execute_result"
    },
    {
     "data": {
      "image/png": "[encoded data removed]",
      "text/plain": [
       "<Figure size 432x288 with 1 Axes>"
      ]
     },
     "metadata": {
      "needs_background": "light",
      "tags": []
     },
     "output_type": "display_data"
    }
   ],
   "source": [
    "estimators =[10,30,60,100,150]\n",
    "train_scores = []\n",
    "test_scores = []\n",
    "for i in estimators:\n",
    "  xgb_model=XGBClassifier(max_depth=5,n_estimators=i,n_jobs=-1,random_state=25)\n",
    "  xgb_model.fit(df_final_train,y_train)\n",
    "  train_sc = f1_score(y_train,xgb_model.predict(df_final_train))\n",
    "  test_sc = f1_score(y_test,xgb_model.predict(df_final_test))\n",
    "  test_scores.append(test_sc)\n",
    "  train_scores.append(train_sc)\n",
    "  print('Estimators = ',i,'Train Score',train_sc,'test Score',test_sc)\n",
    "plt.plot(estimators,train_scores,label='Train Score')\n",
    "plt.plot(estimators,test_scores,label='Test Score')\n",
    "plt.grid()\n",
    "plt.xlabel('Estimators')\n",
    "plt.ylabel('Score')\n",
    "plt.title('Estimators vs score at depth of 5')"
   ]
  },
  {
   "cell_type": "code",
   "execution_count": 22,
   "metadata": {
    "colab": {
     "base_uri": "https://localhost:8080/",
     "height": 446
    },
    "id": "wLaGyPum2bID",
    "outputId": "7b0f550a-2a6e-4725-f726-3ceff35d48a6"
   },
   "outputs": [
    {
     "name": "stdout",
     "output_type": "stream",
     "text": [
      "depth =  3 Train Score 0.9685407351959375 test Score 0.9232265155998985\n",
      "depth =  9 Train Score 0.9796701576496964 test Score 0.9308652422255129\n",
      "depth =  11 Train Score 0.9860670353915435 test Score 0.9281625037106146\n",
      "depth =  15 Train Score 0.9971154423989903 test Score 0.9279918649238396\n",
      "depth =  20 Train Score 0.9999500524449328 test Score 0.9290385388669022\n",
      "depth =  35 Train Score 0.9999400635326554 test Score 0.9292467796179961\n",
      "depth =  50 Train Score 0.9999400635326554 test Score 0.9290292556004485\n",
      "depth =  70 Train Score 0.9999400635326554 test Score 0.9290292556004485\n",
      "depth =  130 Train Score 0.9999400635326554 test Score 0.9290292556004485\n"
     ]
    },
    {
     "data": {
      "image/png": "[encoded data removed]",
      "text/plain": [
       "<Figure size 432x288 with 1 Axes>"
      ]
     },
     "metadata": {
      "needs_background": "light",
      "tags": []
     },
     "output_type": "display_data"
    }
   ],
   "source": [
    "depths = [3,9,11,15,20,35,50,70,130]\n",
    "train_scores = []\n",
    "test_scores = []\n",
    "for i in depths:\n",
    "  xgb_model=XGBClassifier(max_depth=i,n_estimators=60,n_jobs=-1,random_state=25)\n",
    "  xgb_model.fit(df_final_train,y_train)\n",
    "  train_sc = f1_score(y_train,xgb_model.predict(df_final_train))\n",
    "  test_sc = f1_score(y_test,xgb_model.predict(df_final_test))\n",
    "  test_scores.append(test_sc)\n",
    "  train_scores.append(train_sc)\n",
    "  print('depth = ',i,'Train Score',train_sc,'test Score',test_sc)\n",
    "plt.plot(depths,train_scores,label='Train Score')\n",
    "plt.plot(depths,test_scores,label='Test Score')\n",
    "plt.grid()\n",
    "plt.xlabel('Depth')\n",
    "plt.ylabel('Score')\n",
    "plt.title('Depth vs score at depth of 5 at estimators = 60')\n",
    "plt.show()"
   ]
  },
  {
   "cell_type": "code",
   "execution_count": 25,
   "metadata": {
    "colab": {
     "base_uri": "https://localhost:8080/"
    },
    "id": "SumdNasqaaJs",
    "outputId": "36c6b3c5-65c6-4f82-b798-36ca1a5d7b1a"
   },
   "outputs": [
    {
     "name": "stdout",
     "output_type": "stream",
     "text": [
      "mean test scores [0.97903597 0.9788247  0.97833605 0.97841448 0.97783036]\n",
      "mean train scores [0.996794   0.99814983 0.99046219 0.99578649 0.98659236]\n"
     ]
    }
   ],
   "source": [
    "from scipy.stats import randint as sp_randint\n",
    "from scipy.stats import uniform\n",
    "\n",
    "param_dist = {\"n_estimators\":sp_randint(55,75),\n",
    "              \"max_depth\": sp_randint(10,16)}\n",
    "\n",
    "xgb_model=XGBClassifier(random_state=25,n_jobs=-1)\n",
    "\n",
    "xgb_randomcv = RandomizedSearchCV(xgb_model, param_distributions=param_dist,\n",
    "                                   n_iter=5,cv=10,scoring='f1',n_jobs=-1,random_state=25,return_train_score='True')\n",
    "\n",
    "xgb_randomcv.fit(df_final_train,y_train)\n",
    "print('mean test scores',xgb_randomcv.cv_results_['mean_test_score'])\n",
    "print('mean train scores',xgb_randomcv.cv_results_['mean_train_score'])"
   ]
  },
  {
   "cell_type": "code",
   "execution_count": 26,
   "metadata": {
    "colab": {
     "base_uri": "https://localhost:8080/"
    },
    "id": "0vSdJvXzh3nm",
    "outputId": "4691fe26-ef59-469d-efdd-888f95be6657"
   },
   "outputs": [
    {
     "name": "stdout",
     "output_type": "stream",
     "text": [
      "XGBClassifier(base_score=0.5, booster='gbtree', colsample_bylevel=1,\n",
      "              colsample_bynode=1, colsample_bytree=1, gamma=0,\n",
      "              learning_rate=0.1, max_delta_step=0, max_depth=14,\n",
      "              min_child_weight=1, missing=None, n_estimators=70, n_jobs=-1,\n",
      "              nthread=None, objective='binary:logistic', random_state=25,\n",
      "              reg_alpha=0, reg_lambda=1, scale_pos_weight=1, seed=None,\n",
      "              silent=None, subsample=1, verbosity=1)\n"
     ]
    }
   ],
   "source": [
    "print(xgb_randomcv.best_estimator_)"
   ]
  },
  {
   "cell_type": "code",
   "execution_count": 27,
   "metadata": {
    "colab": {
     "base_uri": "https://localhost:8080/",
     "height": 280
    },
    "id": "rbfQdvQGe3l7",
    "outputId": "7fc83aca-9517-412b-8be4-25c4a3c25bd9"
   },
   "outputs": [
    {
     "data": {
      "image/png": "[encoded data removed]",
      "text/plain": [
       "<Figure size 432x288 with 2 Axes>"
      ]
     },
     "metadata": {
      "needs_background": "light",
      "tags": []
     },
     "output_type": "display_data"
    }
   ],
   "source": [
    "import seaborn as sn\n",
    "results = pd.DataFrame(xgb_randomcv.cv_results_)\n",
    "\n",
    "max_scores = results.groupby(['param_n_estimators', 'param_max_depth']).max()\n",
    "max_scores = max_scores.unstack()[['mean_test_score', 'mean_train_score']]\n",
    "sn.heatmap(max_scores.mean_test_score, annot=True, fmt='.4g');"
   ]
  },
  {
   "cell_type": "markdown",
   "metadata": {
    "id": "kfuio2Kc2CGY"
   },
   "source": [
    "#Testing Performance of the Model with Best Hyper Parameters"
   ]
  },
  {
   "cell_type": "code",
   "execution_count": 28,
   "metadata": {
    "id": "Cwu8MqD-PtuV"
   },
   "outputs": [],
   "source": [
    "xgb_model=XGBClassifier(max_depth=14,n_estimators=70,n_jobs=-1,random_state=25)"
   ]
  },
  {
   "cell_type": "code",
   "execution_count": 29,
   "metadata": {
    "id": "5--nUaShQKpL"
   },
   "outputs": [],
   "source": [
    "xgb_model.fit(df_final_train,y_train)\n",
    "y_train_pred = xgb_model.predict(df_final_train)\n",
    "y_test_pred = xgb_model.predict(df_final_test)"
   ]
  },
  {
   "cell_type": "code",
   "execution_count": 30,
   "metadata": {
    "colab": {
     "base_uri": "https://localhost:8080/"
    },
    "id": "nipnD6ugRCzj",
    "outputId": "30e73259-d225-435c-c10f-214803377dae"
   },
   "outputs": [
    {
     "name": "stdout",
     "output_type": "stream",
     "text": [
      "Train f1 score 0.9962612138525535\n",
      "Test f1 score 0.9280189858665481\n"
     ]
    }
   ],
   "source": [
    "from sklearn.metrics import f1_score\n",
    "print('Train f1 score',f1_score(y_train,y_train_pred))\n",
    "print('Test f1 score',f1_score(y_test,y_test_pred))"
   ]
  },
  {
   "cell_type": "code",
   "execution_count": 31,
   "metadata": {
    "id": "XRKGP1CK1BG0"
   },
   "outputs": [],
   "source": [
    "from sklearn.metrics import confusion_matrix\n",
    "def plot_confusion_matrix(test_y, predict_y):\n",
    "    C = confusion_matrix(test_y, predict_y)\n",
    "    \n",
    "    A =(((C.T)/(C.sum(axis=1))).T)\n",
    "    \n",
    "    B =(C/C.sum(axis=0))\n",
    "    plt.figure(figsize=(20,4))\n",
    "    \n",
    "    labels = [0,1]\n",
    "    # representing A in heatmap format\n",
    "    cmap=sns.light_palette(\"blue\")\n",
    "    plt.subplot(1, 3, 1)\n",
    "    sns.heatmap(C, annot=True, cmap=cmap, fmt=\".3f\", xticklabels=labels, yticklabels=labels)\n",
    "    plt.xlabel('Predicted Class')\n",
    "    plt.ylabel('Original Class')\n",
    "    plt.title(\"Confusion matrix\")\n",
    "    \n",
    "    plt.subplot(1, 3, 2)\n",
    "    sns.heatmap(B, annot=True, cmap=cmap, fmt=\".3f\", xticklabels=labels, yticklabels=labels)\n",
    "    plt.xlabel('Predicted Class')\n",
    "    plt.ylabel('Original Class')\n",
    "    plt.title(\"Precision matrix\")\n",
    "    \n",
    "    plt.subplot(1, 3, 3)\n",
    "    # representing B in heatmap format\n",
    "    sns.heatmap(A, annot=True, cmap=cmap, fmt=\".3f\", xticklabels=labels, yticklabels=labels)\n",
    "    plt.xlabel('Predicted Class')\n",
    "    plt.ylabel('Original Class')\n",
    "    plt.title(\"Recall matrix\")\n",
    "    \n",
    "    plt.show()"
   ]
  },
  {
   "cell_type": "code",
   "execution_count": 32,
   "metadata": {
    "colab": {
     "base_uri": "https://localhost:8080/",
     "height": 606
    },
    "id": "3cMWdC981Zij",
    "outputId": "ee3d7b49-a161-43b8-d366-353c333ed2f4"
   },
   "outputs": [
    {
     "name": "stdout",
     "output_type": "stream",
     "text": [
      "Train confusion_matrix\n"
     ]
    },
    {
     "data": {
      "image/png": "[encoded data removed]",
      "text/plain": [
       "<Figure size 1440x288 with 6 Axes>"
      ]
     },
     "metadata": {
      "needs_background": "light",
      "tags": []
     },
     "output_type": "display_data"
    },
    {
     "name": "stdout",
     "output_type": "stream",
     "text": [
      "Test confusion_matrix\n"
     ]
    },
    {
     "data": {
      "image/png": "[encoded data removed]",
      "text/plain": [
       "<Figure size 1440x288 with 6 Axes>"
      ]
     },
     "metadata": {
      "needs_background": "light",
      "tags": []
     },
     "output_type": "display_data"
    }
   ],
   "source": [
    "print('Train confusion_matrix')\n",
    "plot_confusion_matrix(y_train,y_train_pred)\n",
    "print('Test confusion_matrix')\n",
    "plot_confusion_matrix(y_test,y_test_pred)"
   ]
  },
  {
   "cell_type": "code",
   "execution_count": 33,
   "metadata": {
    "colab": {
     "base_uri": "https://localhost:8080/",
     "height": 295
    },
    "id": "OficQ2lx1fHE",
    "outputId": "44cfca90-26b2-4c50-e0a6-1df685b249fa"
   },
   "outputs": [
    {
     "data": {
      "image/png": "[encoded data removed]",
      "text/plain": [
       "<Figure size 432x288 with 1 Axes>"
      ]
     },
     "metadata": {
      "needs_background": "light",
      "tags": []
     },
     "output_type": "display_data"
    }
   ],
   "source": [
    "from sklearn.metrics import roc_curve, auc\n",
    "fpr,tpr,ths = roc_curve(y_test,y_test_pred)\n",
    "auc_sc = auc(fpr, tpr)\n",
    "plt.plot(fpr, tpr, color='navy',label='ROC curve (area = %0.2f)' % auc_sc)\n",
    "plt.xlabel('False Positive Rate')\n",
    "plt.ylabel('True Positive Rate')\n",
    "plt.title('Receiver operating characteristic with test data')\n",
    "plt.legend()\n",
    "plt.show()"
   ]
  },
  {
   "cell_type": "code",
   "execution_count": 34,
   "metadata": {
    "colab": {
     "base_uri": "https://localhost:8080/",
     "height": 730
    },
    "id": "KC0xvqVx1k9I",
    "outputId": "867bcbee-2336-4a48-cbb6-93b0d0b0fd44"
   },
   "outputs": [
    {
     "data": {
      "image/png": "[encoded data removed]",
      "text/plain": [
       "<Figure size 720x864 with 1 Axes>"
      ]
     },
     "metadata": {
      "needs_background": "light",
      "tags": []
     },
     "output_type": "display_data"
    }
   ],
   "source": [
    "features = df_final_train.columns\n",
    "importances = xgb_model.feature_importances_\n",
    "indices = (np.argsort(importances))[-25:]\n",
    "plt.figure(figsize=(10,12))\n",
    "plt.title('Feature Importances')\n",
    "plt.barh(range(len(indices)), importances[indices], color='r', align='center')\n",
    "plt.yticks(range(len(indices)), [features[i] for i in indices])\n",
    "plt.xlabel('Relative Importance')\n",
    "plt.show()"
   ]
  },
  {
   "cell_type": "markdown",
   "metadata": {
    "id": "GCkes5CSG_16"
   },
   "source": [
    "# Step by Step Procedure to solve Facebook Case Study\n",
    "1.   First step is understanding the problem statement and accessing the data.\n",
    "2.   Next We will perform Exploratory Data Analysis on the problem dataset and\n",
    "collect the information from various analysis of the data. \n",
    "1.   Then we will be splitting the data into Train and Test Data and store into different files.\n",
    "1.   we will be doing Featurization by adding set of features to both train and test data and storing data in seprate file.\n",
    "1.   We will select a Model and train the model by tuning different HyperParameters.\n",
    "1.   Train model with best Hyper Parameters and then we will be making predictons of the model.\n",
    "2.   Finally testing performance of model using metrics f1 score,confusion matrix,precision,recall  and AUC(ROC Curve).\n",
    "8.   We can also get the feature importances, the top features which helped in making predictions of the model.\n",
    "\n",
    "\n",
    "\n",
    "\n",
    "\n",
    "\n",
    "\n",
    "\n",
    "\n"
   ]
  }
 ],
 "metadata": {
  "colab": {
   "collapsed_sections": [],
   "name": "Facebook_Assignment.ipynb",
   "provenance": []
  },
  "kernelspec": {
   "display_name": "Python 3",
   "language": "python",
   "name": "python3"
  },
  "language_info": {
   "codemirror_mode": {
    "name": "ipython",
    "version": 3
   },
   "file_extension": ".py",
   "mimetype": "text/x-python",
   "name": "python",
   "nbconvert_exporter": "python",
   "pygments_lexer": "ipython3",
   "version": "3.6.5"
  }
 },
 "nbformat": 4,
 "nbformat_minor": 1
}
