{
 "cells": [
  {
   "cell_type": "markdown",
   "metadata": {},
   "source": [
    "# 1.multiplication table of number"
   ]
  },
  {
   "cell_type": "code",
   "execution_count": 1,
   "metadata": {},
   "outputs": [
    {
     "name": "stdout",
     "output_type": "stream",
     "text": [
      "Multiplication table of 19 :\n",
      "19 x 1 = 19\n",
      "19 x 2 = 38\n",
      "19 x 3 = 57\n",
      "19 x 4 = 76\n",
      "19 x 5 = 95\n",
      "19 x 6 = 114\n",
      "19 x 7 = 133\n",
      "19 x 8 = 152\n",
      "19 x 9 = 171\n",
      "19 x 10 = 190\n"
     ]
    }
   ],
   "source": [
    "def multipication_table(num):\n",
    "    print('Multiplication table of', num,':')\n",
    "    for i in range(1,11):\n",
    "        print(num,'x',i,'=',num*i)\n",
    "\n",
    "multipication_table(19)"
   ]
  },
  {
   "cell_type": "markdown",
   "metadata": {},
   "source": [
    "# 2.twin primes less than 1000"
   ]
  },
  {
   "cell_type": "code",
   "execution_count": 2,
   "metadata": {},
   "outputs": [
    {
     "name": "stdout",
     "output_type": "stream",
     "text": [
      "( 3 , 5 )\n",
      "( 5 , 7 )\n",
      "( 11 , 13 )\n",
      "( 17 , 19 )\n",
      "( 29 , 31 )\n",
      "( 41 , 43 )\n",
      "( 59 , 61 )\n",
      "( 71 , 73 )\n",
      "( 101 , 103 )\n",
      "( 107 , 109 )\n",
      "( 137 , 139 )\n",
      "( 149 , 151 )\n",
      "( 179 , 181 )\n",
      "( 191 , 193 )\n",
      "( 197 , 199 )\n",
      "( 227 , 229 )\n",
      "( 239 , 241 )\n",
      "( 269 , 271 )\n",
      "( 281 , 283 )\n",
      "( 311 , 313 )\n",
      "( 347 , 349 )\n",
      "( 419 , 421 )\n",
      "( 431 , 433 )\n",
      "( 461 , 463 )\n",
      "( 521 , 523 )\n",
      "( 569 , 571 )\n",
      "( 599 , 601 )\n",
      "( 617 , 619 )\n",
      "( 641 , 643 )\n",
      "( 659 , 661 )\n",
      "( 809 , 811 )\n",
      "( 821 , 823 )\n",
      "( 827 , 829 )\n",
      "( 857 , 859 )\n",
      "( 881 , 883 )\n"
     ]
    }
   ],
   "source": [
    "#function for checking prime\n",
    "def is_prime(n):\n",
    "    if n==1:\n",
    "        return 0\n",
    "    for i in range(2,n):\n",
    "        if n%i==0:\n",
    "            return 0\n",
    "    return 1\n",
    "\n",
    "def twin_primes(num):\n",
    "    for i in range(1,num-2,2):\n",
    "        if is_prime(i) and is_prime(i+2):\n",
    "            print('(',i,',',i+2,')')\n",
    "\n",
    "twin_primes(1000)"
   ]
  },
  {
   "cell_type": "markdown",
   "metadata": {},
   "source": [
    "# 3.prime factors of a number"
   ]
  },
  {
   "cell_type": "code",
   "execution_count": 3,
   "metadata": {},
   "outputs": [
    {
     "name": "stdout",
     "output_type": "stream",
     "text": [
      "prime factors of  56 are:\n",
      "2,2,2,7\n",
      "prime factors of  315 are:\n",
      "3,3,5,7,"
     ]
    }
   ],
   "source": [
    "import math\n",
    "def prime_factors(n):\n",
    "    print('prime factors of ',n,'are:')\n",
    "    while n%2==0: #number of 2's that divide n\n",
    "        print(2,end=',') \n",
    "        n=n//2\n",
    "  \n",
    "    for i in range(3,int(math.sqrt(n))+1,2):  #odd numbers\n",
    "        while n%i==0: \n",
    "            print(i,end=',') \n",
    "            n=n//i\n",
    "            \n",
    "    if n>2: #if n is a prime number greater than 2 \n",
    "        print(n,end='\\n')\n",
    "        \n",
    "prime_factors(56)\n",
    "prime_factors(315)"
   ]
  },
  {
   "cell_type": "markdown",
   "metadata": {},
   "source": [
    "# 4.implement formulae of permutations and combinations"
   ]
  },
  {
   "cell_type": "code",
   "execution_count": 4,
   "metadata": {},
   "outputs": [
    {
     "name": "stdout",
     "output_type": "stream",
     "text": [
      "210.0\n",
      "35.0\n"
     ]
    }
   ],
   "source": [
    "#function to find factorial\n",
    "def factorial(num):\n",
    "    if num==1:\n",
    "        return 1\n",
    "    else:\n",
    "        return num*factorial(num-1)\n",
    "\n",
    "#function to find permutation\n",
    "def npr(n,r):\n",
    "    return factorial(n)/factorial(n-r)\n",
    "\n",
    "#function to find combination\n",
    "def ncr(n,r):\n",
    "    return npr(n,r)/factorial(r)\n",
    "\n",
    "print(npr(7,3))\n",
    "print(ncr(7,3))"
   ]
  },
  {
   "cell_type": "markdown",
   "metadata": {},
   "source": [
    "# 5.function that converts a decimal number to binary number"
   ]
  },
  {
   "cell_type": "code",
   "execution_count": 5,
   "metadata": {},
   "outputs": [
    {
     "name": "stdout",
     "output_type": "stream",
     "text": [
      "1100011"
     ]
    }
   ],
   "source": [
    "def decimal_to_binary(num):\n",
    "    if num>1:\n",
    "        decimal_to_binary(num//2) #recursive function\n",
    "    print(num%2,end='')\n",
    "decimal_to_binary(99)"
   ]
  },
  {
   "cell_type": "markdown",
   "metadata": {},
   "source": [
    "# 6.print Armstrong numbers and find whether number is an Armstrong or not"
   ]
  },
  {
   "cell_type": "code",
   "execution_count": 6,
   "metadata": {},
   "outputs": [
    {
     "name": "stdout",
     "output_type": "stream",
     "text": [
      "153  is an Armstrong number\n",
      "729  is not an Armstrong number\n"
     ]
    }
   ],
   "source": [
    "\n",
    "def cubesum(num): #only for 3 digit numbers\n",
    "    sum=0\n",
    "    while num!=0:\n",
    "        r=num%10\n",
    "        sum+=pow(r,3)\n",
    "        num//=10\n",
    "    return sum\n",
    "\n",
    "def isArmstrong(n): #whether num is an Armstrong number\n",
    "    if cubesum(n)==n:\n",
    "        print(n,' is an Armstrong number')\n",
    "    else:\n",
    "        print(n,' is not an Armstrong number')\n",
    "\n",
    "isArmstrong(153)\n",
    "isArmstrong(729)"
   ]
  },
  {
   "cell_type": "code",
   "execution_count": 7,
   "metadata": {},
   "outputs": [
    {
     "name": "stdout",
     "output_type": "stream",
     "text": [
      "153\n",
      "370\n",
      "371\n",
      "407\n"
     ]
    }
   ],
   "source": [
    "def  PrintArmstrong(start,end): #printing all 3 digit armstrong numbers\n",
    "    for i in range(start,end):\n",
    "        if i==cubesum(i):\n",
    "            print(i)\n",
    "\n",
    "PrintArmstrong(100,1000)"
   ]
  },
  {
   "cell_type": "markdown",
   "metadata": {},
   "source": [
    "# 7.function to find product of digits of a number"
   ]
  },
  {
   "cell_type": "code",
   "execution_count": 8,
   "metadata": {},
   "outputs": [
    {
     "data": {
      "text/plain": [
       "126"
      ]
     },
     "execution_count": 8,
     "metadata": {},
     "output_type": "execute_result"
    }
   ],
   "source": [
    "def prodDigits(num): #function to find product of digits of a number\n",
    "    product=1\n",
    "    while num!=0:\n",
    "        product*=num%10\n",
    "        num//=10\n",
    "    return product\n",
    "\n",
    "prodDigits(1729)"
   ]
  },
  {
   "cell_type": "markdown",
   "metadata": {},
   "source": [
    "# 8.functions to find multiplicative digital root and multiplicative persistence"
   ]
  },
  {
   "cell_type": "code",
   "execution_count": 9,
   "metadata": {},
   "outputs": [
    {
     "data": {
      "text/plain": [
       "2"
      ]
     },
     "execution_count": 9,
     "metadata": {},
     "output_type": "execute_result"
    }
   ],
   "source": [
    "def MDR(n): #function to find multiplicative digital root\n",
    "    while n>9:\n",
    "        n=prodDigits(n)\n",
    "    return n\n",
    "\n",
    "MDR(1729)"
   ]
  },
  {
   "cell_type": "code",
   "execution_count": 10,
   "metadata": {},
   "outputs": [
    {
     "data": {
      "text/plain": [
       "3"
      ]
     },
     "execution_count": 10,
     "metadata": {},
     "output_type": "execute_result"
    }
   ],
   "source": [
    "def MPersistence(n): #function to find multiplicative persistence\n",
    "    count=0\n",
    "    while n>9:\n",
    "        n=prodDigits(n)\n",
    "        count+=1\n",
    "    return count\n",
    "\n",
    "MPersistence(1729)"
   ]
  },
  {
   "cell_type": "markdown",
   "metadata": {},
   "source": [
    "# 9.function that finds the sum of proper divisors of a number"
   ]
  },
  {
   "cell_type": "code",
   "execution_count": 11,
   "metadata": {},
   "outputs": [
    {
     "data": {
      "text/plain": [
       "55"
      ]
     },
     "execution_count": 11,
     "metadata": {},
     "output_type": "execute_result"
    }
   ],
   "source": [
    "def sumPdivisors(n): #function to find sum of proper divisors of a number\n",
    "    sum=0\n",
    "    for i in range(1,n//2+1):\n",
    "        if n%i==0:\n",
    "            sum+=i\n",
    "    return sum\n",
    "\n",
    "sumPdivisors(36)"
   ]
  },
  {
   "cell_type": "markdown",
   "metadata": {},
   "source": [
    "# 10.program to print all the perfect numbers in a given range"
   ]
  },
  {
   "cell_type": "code",
   "execution_count": 12,
   "metadata": {},
   "outputs": [
    {
     "name": "stdout",
     "output_type": "stream",
     "text": [
      "6\n",
      "28\n",
      "496\n"
     ]
    }
   ],
   "source": [
    "def sumPdivisors(n): #function to find sum of properdivisors of a number\n",
    "    sum=0\n",
    "    for i in range(1,n//2+1):\n",
    "        if n%i==0:\n",
    "            sum+=i\n",
    "    return sum\n",
    "\n",
    "def printPerfect(start,end): #printing all perfect numbers\n",
    "    for i in range(start,end+1):\n",
    "        if i==sumPdivisors(i):\n",
    "            print(i)\n",
    "            \n",
    "printPerfect(1,1000)"
   ]
  },
  {
   "cell_type": "markdown",
   "metadata": {},
   "source": [
    "# 11.function to print pairs of amicable numbers in a range"
   ]
  },
  {
   "cell_type": "code",
   "execution_count": 13,
   "metadata": {},
   "outputs": [
    {
     "name": "stdout",
     "output_type": "stream",
     "text": [
      "( 220 , 284 )\n"
     ]
    }
   ],
   "source": [
    "def sumPdivisors(n): #function to find sum of properdivisors of a number\n",
    "    sum=0\n",
    "    for i in range(1,n//2+1):\n",
    "        if n%i==0:\n",
    "            sum+=i\n",
    "    return sum\n",
    "\n",
    "def amicablePairs(start,end): #function to find pairs of amicable numbers\n",
    "    for i in range(start,end+1):\n",
    "        sum1=sumPdivisors(i)\n",
    "        sum2=sumPdivisors(sum1)\n",
    "        if i!=sum1 and i==sum2:\n",
    "            print('(',i,',',sum1,')')\n",
    "            \n",
    "amicablePairs(1,250)"
   ]
  },
  {
   "cell_type": "markdown",
   "metadata": {},
   "source": [
    "# 12.filter odd numbers in a list by using filter function"
   ]
  },
  {
   "cell_type": "code",
   "execution_count": 14,
   "metadata": {},
   "outputs": [
    {
     "name": "stdout",
     "output_type": "stream",
     "text": [
      "[1, 3, 5, 7, 9]\n"
     ]
    }
   ],
   "source": [
    "\n",
    "def fun(num): #function that filters odd numbers\n",
    "    if num%2==0:\n",
    "        return 0\n",
    "    else:\n",
    "        return 1\n",
    "      \n",
    "numbers=[1,2,3,4,5,6,7,8,9] #numbers list\n",
    "\n",
    "filtered=list(filter(fun,numbers)) #filtering odd numbers using filter function\n",
    "print(filtered)"
   ]
  },
  {
   "cell_type": "markdown",
   "metadata": {},
   "source": [
    "# 13.program which can map() to make a list whose elements are cube of elements in a given list"
   ]
  },
  {
   "cell_type": "code",
   "execution_count": 15,
   "metadata": {},
   "outputs": [
    {
     "name": "stdout",
     "output_type": "stream",
     "text": [
      "[1, 8, 27, 64, 125, 216, 343, 512, 729]\n"
     ]
    }
   ],
   "source": [
    "\n",
    "def cube(num):\n",
    "    return num**3\n",
    "\n",
    "numbers=[1,2,3,4,5,6,7,8,9] #numbers list\n",
    "\n",
    "result=map(cube,numbers) #mapping cubes of elements\n",
    "print(list(result))"
   ]
  },
  {
   "cell_type": "markdown",
   "metadata": {},
   "source": [
    "# 14.program which can map() and filter() to make a list whose elements are cube of even number in a given list"
   ]
  },
  {
   "cell_type": "code",
   "execution_count": 16,
   "metadata": {},
   "outputs": [
    {
     "name": "stdout",
     "output_type": "stream",
     "text": [
      "[8, 64, 216, 512]\n"
     ]
    }
   ],
   "source": [
    "def fun(num): #function that filters even numbers\n",
    "    if num%2==0:\n",
    "        return 1\n",
    "    else:\n",
    "        return 0\n",
    "    \n",
    "def cube(num):\n",
    "    return num**3\n",
    "\n",
    "numbers=[1,2,3,4,5,6,7,8,9] #numbers list\n",
    "\n",
    "res=map(cube,filter(fun,numbers)) #map and filter function\n",
    "print(list(res))"
   ]
  },
  {
   "cell_type": "code",
   "execution_count": null,
   "metadata": {},
   "outputs": [],
   "source": []
  }
 ],
 "metadata": {
  "kernelspec": {
   "display_name": "Python 3",
   "language": "python",
   "name": "python3"
  },
  "language_info": {
   "codemirror_mode": {
    "name": "ipython",
    "version": 3
   },
   "file_extension": ".py",
   "mimetype": "text/x-python",
   "name": "python",
   "nbconvert_exporter": "python",
   "pygments_lexer": "ipython3",
   "version": "3.6.5"
  }
 },
 "nbformat": 4,
 "nbformat_minor": 2
}
