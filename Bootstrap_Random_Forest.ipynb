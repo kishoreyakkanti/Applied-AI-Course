{
 "cells": [
  {
   "cell_type": "markdown",
   "metadata": {
    "colab_type": "text",
    "id": "AjzGopb_YcKR"
   },
   "source": [
    "# Application of Bootstrap samples in Random Forest"
   ]
  },
  {
   "cell_type": "code",
   "execution_count": 1,
   "metadata": {
    "colab": {},
    "colab_type": "code",
    "id": "zZSCtDI6YcKT"
   },
   "outputs": [],
   "source": [
    "import numpy as np\n",
    "from sklearn.datasets import load_boston\n",
    "from sklearn.metrics import mean_squared_error"
   ]
  },
  {
   "cell_type": "code",
   "execution_count": 2,
   "metadata": {
    "colab": {},
    "colab_type": "code",
    "id": "wBWRNKCDYcKb"
   },
   "outputs": [],
   "source": [
    "boston = load_boston()\n",
    "x=boston.data #independent variables\n",
    "y=boston.target #target variable"
   ]
  },
  {
   "cell_type": "code",
   "execution_count": 3,
   "metadata": {
    "colab": {},
    "colab_type": "code",
    "id": "DTbK20-mWYHU",
    "outputId": "b473b251-a104-44df-f6c3-3427184c9042"
   },
   "outputs": [
    {
     "data": {
      "text/plain": [
       "(506, 13)"
      ]
     },
     "execution_count": 3,
     "metadata": {},
     "output_type": "execute_result"
    }
   ],
   "source": [
    "x.shape"
   ]
  },
  {
   "cell_type": "markdown",
   "metadata": {},
   "source": [
    "# TASK 1"
   ]
  },
  {
   "cell_type": "code",
   "execution_count": 4,
   "metadata": {},
   "outputs": [],
   "source": [
    "import random\n",
    "from sklearn.tree import DecisionTreeRegressor"
   ]
  },
  {
   "cell_type": "code",
   "execution_count": 5,
   "metadata": {},
   "outputs": [],
   "source": [
    "#function Task1\n",
    "def Task1(x,y):\n",
    "    num=len(x)\n",
    "    sample_index=[]\n",
    "    column_index=[]\n",
    "    oob_index=[]\n",
    "\n",
    "    for i in range(30):\n",
    "        sample=np.random.choice(num,size=int(0.6*num),replace=False)\n",
    "        sample_rep=np.random.choice(sample,size=num-int(0.6*num),replace=True)\n",
    "        sample_index.append(np.concatenate((sample,sample_rep)))\n",
    "        size=random.randint(3,12)\n",
    "        column=np.random.choice(13,size=size,replace=False)\n",
    "        column_index.append(column)\n",
    "        oob_index.append(list(set(range(num))-set(sample)))\n",
    "\n",
    "    regressor = DecisionTreeRegressor(random_state=0)\n",
    "\n",
    "    y_pred=[]\n",
    "    y_pred_oob=[]\n",
    "    for row in range(num):\n",
    "        datapoint=x[row]\n",
    "        y_predsample=[]\n",
    "        count=0\n",
    "        y_pred_oob_sum=0\n",
    "        for i in range(30):\n",
    "            x_sampledata=x[np.ix_(sample_index[i],column_index[i])]\n",
    "            y_sampledata=np.take(y,sample_index[i])\n",
    "            regressor.fit(x_sampledata,y_sampledata)\n",
    "            predicted=regressor.predict(np.take(datapoint,column_index[i]).reshape(1,-1))\n",
    "            y_predsample.extend(predicted)\n",
    "            if row in oob_index[i]:\n",
    "                count+=1\n",
    "                y_pred_oob_sum+=predicted\n",
    "        y_pred.append(np.mean(y_predsample))\n",
    "        y_pred_oob.extend(y_pred_oob_sum/count)\n",
    "\n",
    "    MSE=np.mean(np.square(y-y_pred))\n",
    "    oobscore=np.mean(np.square(y-y_pred_oob))\n",
    "    \n",
    "    return MSE,oobscore"
   ]
  },
  {
   "cell_type": "code",
   "execution_count": 6,
   "metadata": {},
   "outputs": [
    {
     "name": "stdout",
     "output_type": "stream",
     "text": [
      "MSE value is 2.3889127287039673\n",
      "OOB Score is 13.625955623196374\n"
     ]
    }
   ],
   "source": [
    "MSE,oobscore=Task1(x,y)\n",
    "print(\"MSE value is {}\".format(MSE))\n",
    "print(\"OOB Score is {}\".format(oobscore))"
   ]
  },
  {
   "cell_type": "markdown",
   "metadata": {},
   "source": [
    "# TASK 2"
   ]
  },
  {
   "cell_type": "code",
   "execution_count": 7,
   "metadata": {},
   "outputs": [],
   "source": [
    "mse_=[]\n",
    "oob_=[]\n",
    "for k in range(35):\n",
    "    MSE,oobscore=Task1(x,y)\n",
    "    mse_.append(MSE)\n",
    "    oob_.append(oobscore)"
   ]
  },
  {
   "cell_type": "code",
   "execution_count": 8,
   "metadata": {},
   "outputs": [
    {
     "name": "stdout",
     "output_type": "stream",
     "text": [
      "95 percent confidence interval of MSE  2.4 and 2.7\n"
     ]
    }
   ],
   "source": [
    "# confidence interval of MSE\n",
    "mse_sample=np.array(mse_)\n",
    "sample_mean = mse_sample.mean()\n",
    "sample_std =  mse_sample.std()\n",
    "sample_size = len(mse_sample)\n",
    "\n",
    "lower  = np.round(sample_mean - 2*(sample_std/np.sqrt(sample_size)), 3)\n",
    "upper = np.round(sample_mean + 2*(sample_std/np.sqrt(sample_size)), 3)\n",
    "print('95 percent confidence interval of MSE  %.1f and %.1f' % (lower, upper))"
   ]
  },
  {
   "cell_type": "code",
   "execution_count": 9,
   "metadata": {},
   "outputs": [
    {
     "name": "stdout",
     "output_type": "stream",
     "text": [
      "95 percent confidence interval of OOB Score 13.7 and 14.8\n"
     ]
    }
   ],
   "source": [
    "# confidence interval of OOB Score\n",
    "oob_sample=np.array(oob_)\n",
    "sample_mean = oob_sample.mean()\n",
    "sample_std =  oob_sample.std()\n",
    "sample_size = len(oob_sample)\n",
    "\n",
    "lower  = np.round(sample_mean - 2*(sample_std/np.sqrt(sample_size)), 3)\n",
    "upper = np.round(sample_mean + 2*(sample_std/np.sqrt(sample_size)), 3)\n",
    "print('95 percent confidence interval of OOB Score %.1f and %.1f' % (lower, upper))"
   ]
  },
  {
   "cell_type": "markdown",
   "metadata": {},
   "source": [
    "# TASK 3"
   ]
  },
  {
   "cell_type": "code",
   "execution_count": 10,
   "metadata": {},
   "outputs": [],
   "source": [
    "xq=[0.18,20.0,5.00,0.0,0.421,5.60,72.2,7.95,7.0,30.0,19.1,372.13,18.60]"
   ]
  },
  {
   "cell_type": "code",
   "execution_count": 11,
   "metadata": {},
   "outputs": [
    {
     "name": "stdout",
     "output_type": "stream",
     "text": [
      "Predicted House Price for given query point xq is 20.788888888888888 \n"
     ]
    }
   ],
   "source": [
    "num=len(x)\n",
    "sample_index=[]\n",
    "column_index=[]\n",
    "\n",
    "for i in range(30):\n",
    "    sample=np.random.choice(num,size=int(0.6*num),replace=False)\n",
    "    sample_rep=np.random.choice(sample,size=num-int(0.6*num),replace=True)\n",
    "    sample_index.append(np.concatenate((sample,sample_rep)))\n",
    "    size=random.randint(3,12)\n",
    "    column=np.random.choice(13,size=size,replace=False)\n",
    "    column_index.append(column)\n",
    "    \n",
    "regressor = DecisionTreeRegressor(random_state=0)\n",
    "y_predsample=[]\n",
    "for i in range(30):\n",
    "    x_sampledata=x[np.ix_(sample_index[i],column_index[i])]\n",
    "    y_sampledata=np.take(y,sample_index[i])\n",
    "    regressor.fit(x_sampledata,y_sampledata)\n",
    "    predicted=regressor.predict(np.take(xq,column_index[i]).reshape(1,-1))\n",
    "    y_predsample.extend(predicted)\n",
    "y_pred=np.mean(y_predsample)\n",
    "print(\"Predicted House Price for given query point xq is {} \".format(y_pred))"
   ]
  },
  {
   "cell_type": "code",
   "execution_count": null,
   "metadata": {},
   "outputs": [],
   "source": []
  }
 ],
 "metadata": {
  "colab": {
   "collapsed_sections": [],
   "name": "Bootstrap_Random_Forest_instructions.ipynb",
   "provenance": []
  },
  "kernelspec": {
   "display_name": "Python 3",
   "language": "python",
   "name": "python3"
  },
  "language_info": {
   "codemirror_mode": {
    "name": "ipython",
    "version": 3
   },
   "file_extension": ".py",
   "mimetype": "text/x-python",
   "name": "python",
   "nbconvert_exporter": "python",
   "pygments_lexer": "ipython3",
   "version": "3.6.5"
  }
 },
 "nbformat": 4,
 "nbformat_minor": 1
}
