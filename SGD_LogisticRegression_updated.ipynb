{
 "cells": [
  {
   "cell_type": "code",
   "execution_count": 1,
   "metadata": {
    "colab": {},
    "colab_type": "code",
    "id": "I2S-uFqwSvmg"
   },
   "outputs": [],
   "source": [
    "import numpy as np\n",
    "import pandas as pd\n",
    "from sklearn.datasets import make_classification\n",
    "import math\n",
    "import matplotlib.pyplot as plt"
   ]
  },
  {
   "cell_type": "code",
   "execution_count": 2,
   "metadata": {
    "colab": {},
    "colab_type": "code",
    "id": "FUxLkBjISvmr"
   },
   "outputs": [],
   "source": [
    "X, y = make_classification(n_samples=50000, n_features=15, n_informative=10, n_redundant=5,\n",
    "                           n_classes=2, weights=[0.7], class_sep=0.7, random_state=15)"
   ]
  },
  {
   "cell_type": "code",
   "execution_count": 3,
   "metadata": {
    "colab": {},
    "colab_type": "code",
    "id": "xexp5GYNSvmz",
    "outputId": "48e3356f-3756-4945-f6b7-f643b59063b4"
   },
   "outputs": [
    {
     "data": {
      "text/plain": [
       "((50000, 15), (50000,))"
      ]
     },
     "execution_count": 3,
     "metadata": {},
     "output_type": "execute_result"
    }
   ],
   "source": [
    "X.shape, y.shape"
   ]
  },
  {
   "cell_type": "code",
   "execution_count": 4,
   "metadata": {
    "colab": {},
    "colab_type": "code",
    "id": "9pKAn1-ASvm_"
   },
   "outputs": [],
   "source": [
    "from sklearn.model_selection import train_test_split"
   ]
  },
  {
   "cell_type": "code",
   "execution_count": 5,
   "metadata": {
    "colab": {},
    "colab_type": "code",
    "id": "r97pFTgrSvnE"
   },
   "outputs": [],
   "source": [
    "X_train, X_test, y_train, y_test = train_test_split(X, y, test_size=0.25, random_state=15)"
   ]
  },
  {
   "cell_type": "code",
   "execution_count": 6,
   "metadata": {
    "colab": {},
    "colab_type": "code",
    "id": "jykLIXZNSvnJ",
    "outputId": "2e462e5f-1546-4edf-bcc8-e7a42f9057d7"
   },
   "outputs": [
    {
     "data": {
      "text/plain": [
       "((37500, 15), (37500,), (12500, 15), (12500,))"
      ]
     },
     "execution_count": 6,
     "metadata": {},
     "output_type": "execute_result"
    }
   ],
   "source": [
    "X_train.shape, y_train.shape, X_test.shape, y_test.shape"
   ]
  },
  {
   "cell_type": "code",
   "execution_count": 7,
   "metadata": {
    "colab_type": "text",
    "id": "g0-M6oXASvnO"
   },
   "outputs": [],
   "source": [
    " from sklearn import linear_model"
   ]
  },
  {
   "cell_type": "code",
   "execution_count": 8,
   "metadata": {},
   "outputs": [
    {
     "data": {
      "text/plain": [
       "SGDClassifier(alpha=0.0001, average=False, class_weight=None,\n",
       "              early_stopping=False, epsilon=0.1, eta0=0.0001,\n",
       "              fit_intercept=True, l1_ratio=0.15, learning_rate='constant',\n",
       "              loss='log', max_iter=1000, n_iter_no_change=5, n_jobs=None,\n",
       "              penalty='l2', power_t=0.5, random_state=15, shuffle=True,\n",
       "              tol=0.001, validation_fraction=0.1, verbose=2, warm_start=False)"
      ]
     },
     "execution_count": 8,
     "metadata": {},
     "output_type": "execute_result"
    }
   ],
   "source": [
    "clf = linear_model.SGDClassifier(eta0=0.0001, alpha=0.0001, loss='log', random_state=15, penalty='l2', tol=1e-3, verbose=2, learning_rate='constant')\n",
    "clf"
   ]
  },
  {
   "cell_type": "code",
   "execution_count": 9,
   "metadata": {},
   "outputs": [
    {
     "name": "stdout",
     "output_type": "stream",
     "text": [
      "-- Epoch 1\n",
      "Norm: 0.77, NNZs: 15, Bias: -0.316653, T: 37500, Avg. loss: 0.455552\n",
      "Total training time: 0.02 seconds.\n",
      "-- Epoch 2\n",
      "Norm: 0.91, NNZs: 15, Bias: -0.472747, T: 75000, Avg. loss: 0.394686\n",
      "Total training time: 0.04 seconds.\n",
      "-- Epoch 3\n",
      "Norm: 0.98, NNZs: 15, Bias: -0.580082, T: 112500, Avg. loss: 0.385711\n",
      "Total training time: 0.06 seconds.\n",
      "-- Epoch 4\n",
      "Norm: 1.02, NNZs: 15, Bias: -0.658292, T: 150000, Avg. loss: 0.382083\n",
      "Total training time: 0.08 seconds.\n",
      "-- Epoch 5\n",
      "Norm: 1.04, NNZs: 15, Bias: -0.719528, T: 187500, Avg. loss: 0.380486\n",
      "Total training time: 0.09 seconds.\n",
      "-- Epoch 6\n",
      "Norm: 1.05, NNZs: 15, Bias: -0.763409, T: 225000, Avg. loss: 0.379578\n",
      "Total training time: 0.10 seconds.\n",
      "-- Epoch 7\n",
      "Norm: 1.06, NNZs: 15, Bias: -0.795106, T: 262500, Avg. loss: 0.379150\n",
      "Total training time: 0.11 seconds.\n",
      "-- Epoch 8\n",
      "Norm: 1.06, NNZs: 15, Bias: -0.819925, T: 300000, Avg. loss: 0.378856\n",
      "Total training time: 0.12 seconds.\n",
      "-- Epoch 9\n",
      "Norm: 1.07, NNZs: 15, Bias: -0.837805, T: 337500, Avg. loss: 0.378585\n",
      "Total training time: 0.13 seconds.\n",
      "-- Epoch 10\n",
      "Norm: 1.08, NNZs: 15, Bias: -0.853138, T: 375000, Avg. loss: 0.378630\n",
      "Total training time: 0.13 seconds.\n",
      "Convergence after 10 epochs took 0.13 seconds\n"
     ]
    },
    {
     "data": {
      "text/plain": [
       "SGDClassifier(alpha=0.0001, average=False, class_weight=None,\n",
       "              early_stopping=False, epsilon=0.1, eta0=0.0001,\n",
       "              fit_intercept=True, l1_ratio=0.15, learning_rate='constant',\n",
       "              loss='log', max_iter=1000, n_iter_no_change=5, n_jobs=None,\n",
       "              penalty='l2', power_t=0.5, random_state=15, shuffle=True,\n",
       "              tol=0.001, validation_fraction=0.1, verbose=2, warm_start=False)"
      ]
     },
     "execution_count": 9,
     "metadata": {},
     "output_type": "execute_result"
    }
   ],
   "source": [
    "clf.fit(X=X_train, y=y_train)"
   ]
  },
  {
   "cell_type": "code",
   "execution_count": 10,
   "metadata": {
    "colab": {},
    "colab_type": "code",
    "id": "Fpz8X5DMSvn2"
   },
   "outputs": [],
   "source": [
    "w = np.zeros_like(X_train[0])\n",
    "b = 0\n",
    "eta0  = 0.0001    #learning rating for updation of weight (alpha)\n",
    "alpha = 0.0001    #lambda=alpha\n",
    "N = len(X_train)"
   ]
  },
  {
   "cell_type": "code",
   "execution_count": 11,
   "metadata": {},
   "outputs": [],
   "source": [
    "def sigmoid(w,x,b):\n",
    "    z=np.dot(x,w)+b\n",
    "    den=1+np.exp(-z)\n",
    "    return 1/den"
   ]
  },
  {
   "cell_type": "code",
   "execution_count": 12,
   "metadata": {},
   "outputs": [],
   "source": [
    "def logloss(w,b,X,Y):\n",
    "    leng=len(X)\n",
    "    loss=0\n",
    "    for i in range(leng):\n",
    "        sigma=sigmoid(w,X[i],b)\n",
    "        loss+=-Y[i]*math.log(sigma)-(1-Y[i])*math.log(1-sigma)\n",
    "    return loss/leng"
   ]
  },
  {
   "cell_type": "code",
   "execution_count": 13,
   "metadata": {},
   "outputs": [
    {
     "name": "stdout",
     "output_type": "stream",
     "text": [
      "intial log loss for train data 0.6931471805594285\n",
      "intial log loss for test data 0.6931471805600672\n"
     ]
    }
   ],
   "source": [
    "#initial log loss for train and test data\n",
    "currloss_train=logloss(w,b,X_train,y_train)\n",
    "currloss_test=logloss(w,b,X_test,y_test)\n",
    "list=[]\n",
    "list.append(currloss_train)\n",
    "list.append(currloss_test)\n",
    "print(\"intial log loss for train data {}\".format(list[0]))\n",
    "print(\"intial log loss for test data {}\".format(list[1]))"
   ]
  },
  {
   "cell_type": "code",
   "execution_count": 14,
   "metadata": {
    "colab": {},
    "colab_type": "code",
    "id": "B6Y5kVscSvn5"
   },
   "outputs": [
    {
     "name": "stdout",
     "output_type": "stream",
     "text": [
      "training stoped at epoch value 10\n",
      "weight vector\n",
      "[-0.42047931  0.18283464 -0.14677042  0.34514496 -0.2099911   0.56686447\n",
      " -0.44458122 -0.0987519   0.21124869  0.17993798  0.19727758  0.00415329\n",
      " -0.07122719  0.33456503  0.02946301]\n",
      "intercept\n",
      "-0.8536567562371443\n"
     ]
    }
   ],
   "source": [
    "\n",
    "lr=eta0 #learning rate\n",
    "lam=alpha #lambda\n",
    "epoch=20 #no of iterations\n",
    "logloss_train=[]\n",
    "logloss_test=[]\n",
    "index=np.arange(N)\n",
    "np.random.shuffle(index)  #shuffling indices of train data\n",
    "for i in range(1,epoch):  #for every epoch\n",
    "    for j in index:\n",
    "        X_r=X_train[j] #X_train datapoints batch size of 1\n",
    "        Y_r=y_train[j]  #y_train datapoints batchsize 1\n",
    "        \n",
    "        gradient=(X_r*(sigmoid(w,X_r,b)-Y_r))+((lam*w)/N) #gradient of loss w.r.t w\n",
    "        gradient_intercept=(sigmoid(w,X_r,b)-Y_r)  #gradient of intercept w.r.t b\n",
    "        \n",
    "        coeff=w-lr*gradient  #updating weight vector (wt1=wt-lr*gradient)\n",
    "        intercept=b-lr*gradient_intercept  #updating intecept (bt1=bt=lr*gradientintercept)\n",
    "     \n",
    "        w=coeff  #storing wt=wt1 for next iteration\n",
    "        b=intercept #storing bt=bt1 for next iteration\n",
    "    prevloss_train=currloss_train\n",
    "    prevloss_test=currloss_test\n",
    "    \n",
    "    currloss_train=logloss(coeff,intercept,X_train,y_train) #log loss for trian data with updated weight vector and intercept\n",
    "    currloss_test=logloss(coeff,intercept,X_test,y_test) #log loss for test data with updated weight vector and intercept\n",
    "    \n",
    "    if round(currloss_train,4)==round(prevloss_train,4): #comparing previousloss and currentloss\n",
    "        epoch_value=i\n",
    "        print(\"training stoped at epoch value {}\".format(epoch_value))\n",
    "        break  \n",
    "    logloss_train.append(currloss_train) #logloss for each epoch\n",
    "    logloss_test.append(currloss_test)  \n",
    "    \n",
    "   \n",
    "    \n",
    "print(\"weight vector\")\n",
    "print(w)  #final weight vector\n",
    "print(\"intercept\")\n",
    "print(b)  #final intercept\n",
    "          "
   ]
  },
  {
   "cell_type": "code",
   "execution_count": 15,
   "metadata": {},
   "outputs": [
    {
     "data": {
      "image/png": "[encoded data removed]",
      "text/plain": [
       "<Figure size 432x288 with 1 Axes>"
      ]
     },
     "metadata": {},
     "output_type": "display_data"
    }
   ],
   "source": [
    "\n",
    "#plotting train and test loss for each epoch \n",
    "\n",
    "\n",
    "\n",
    "epoch=range(1,epoch_value)\n",
    "\n",
    "plt.plot(epoch,logloss_train,label='Train loss') \n",
    "plt.plot(epoch,logloss_test,label='Test loss')\n",
    "plt.scatter(epoch,logloss_train,label='Train loss points')\n",
    "plt.scatter(epoch,logloss_test,label='Test loss points')\n",
    "plt.legend()\n",
    "plt.xlabel(\"epoch\")\n",
    "plt.ylabel(\"loss\")\n",
    "plt.title(\"epoch vs logloss\")\n",
    "plt.grid()\n",
    "plt.show()"
   ]
  },
  {
   "cell_type": "code",
   "execution_count": 16,
   "metadata": {},
   "outputs": [
    {
     "data": {
      "text/plain": [
       "(array([[ 2.88760591e-03, -2.64101153e-03,  1.81993914e-03,\n",
       "          3.70089221e-03, -1.80439371e-03,  6.69868258e-03,\n",
       "          7.84360873e-03, -4.66377145e-03,  1.97549277e-03,\n",
       "         -9.03285636e-04,  2.25676294e-04, -6.58648453e-05,\n",
       "          8.37650636e-03, -3.96298230e-03,  6.79579750e-03]]),\n",
       " array([-0.00051846]))"
      ]
     },
     "execution_count": 16,
     "metadata": {},
     "output_type": "execute_result"
    }
   ],
   "source": [
    "# these are the results we got after we implemented sgd and found the optimal weights and intercept\n",
    "w-clf.coef_, b-clf.intercept_"
   ]
  },
  {
   "cell_type": "code",
   "execution_count": 17,
   "metadata": {
    "colab": {},
    "colab_type": "code",
    "id": "48gx6wQKSvoE",
    "outputId": "73838465-1f8e-4697-fe22-c49a816e1207"
   },
   "outputs": [
    {
     "name": "stdout",
     "output_type": "stream",
     "text": [
      "0.9526133333333333\n",
      "0.95128\n"
     ]
    }
   ],
   "source": [
    "def pred(w,b, X):\n",
    "    N = len(X)\n",
    "    predict = []\n",
    "    for i in range(N):\n",
    "        if sigmoid(w, X[i], b) >= 0.5: # sigmoid(w,x,b) returns 1/(1+exp(-(dot(x,w)+b)))\n",
    "            predict.append(1)\n",
    "        else:\n",
    "            predict.append(0)\n",
    "    return np.array(predict)\n",
    "print(1-np.sum(y_train - pred(w,b,X_train))/len(X_train))\n",
    "print(1-np.sum(y_test  - pred(w,b,X_test))/len(X_test))"
   ]
  },
  {
   "cell_type": "code",
   "execution_count": null,
   "metadata": {},
   "outputs": [],
   "source": []
  }
 ],
 "metadata": {
  "colab": {
   "collapsed_sections": [],
   "name": "Logistic Regression using SGD.ipynb",
   "provenance": []
  },
  "kernelspec": {
   "display_name": "Python 3",
   "language": "python",
   "name": "python3"
  },
  "language_info": {
   "codemirror_mode": {
    "name": "ipython",
    "version": 3
   },
   "file_extension": ".py",
   "mimetype": "text/x-python",
   "name": "python",
   "nbconvert_exporter": "python",
   "pygments_lexer": "ipython3",
   "version": "3.6.5"
  }
 },
 "nbformat": 4,
 "nbformat_minor": 1
}
